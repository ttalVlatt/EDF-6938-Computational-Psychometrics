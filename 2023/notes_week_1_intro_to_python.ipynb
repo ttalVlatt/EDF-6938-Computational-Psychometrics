{
  "cells": [
    {
      "attachments": {},
      "cell_type": "markdown",
      "metadata": {
        "id": "ulDUX-tcqJct"
      },
      "source": [
        "<h1><center>  Lab 1 : Introduction to Python </center>\n",
        "<img src=\"https://files.realpython.com/media/Newbie_Watermarked.a9319218252a.jpg\" width=\"400\">"
      ]
    },
    {
      "attachments": {},
      "cell_type": "markdown",
      "metadata": {
        "id": "fEmjQBTiobKu"
      },
      "source": [
        "> `Created by: Jinnie Shin (jinnie.shin@ualberta.ca)`\\\n",
        "> `Date: 18 May 2023 (Summer A 2023)`\n",
        "---"
      ]
    },
    {
      "attachments": {},
      "cell_type": "markdown",
      "metadata": {
        "id": "J48Y-2CNqBkk"
      },
      "source": [
        "## 1. Basic Data Type in Python <a class=\"anchor\" id=\"data\"></a>\n",
        "\n",
        "|  Object Type |              Example              |           Shortcut         |\n",
        "|:------------|:---------------------------------|:------------------:|\n",
        "| Numbers      | 123, 3.14, 3+4j, 1000             | ```int(a)``` or ```float(a)``` |\n",
        "| String       | \"student\", \"class\", \"fun\"         | ```string(a)``` or ```\" \"```   |\n",
        "| Lists        | [1,2,3], [\"student\", \"fun\"]       | ```list(a)``` or ```[a]```     |\n",
        "| Dictionaries | {'Jane':'high', 'Matt':'average'} | ```dict(a)``` or ```{a:b}```   |\n",
        "| Tuples       | ('Jane', 'high'), (1, 2)          | ```tuple(a)``` or ```(a,b)```  |\n",
        "| Sets         | set('abc') {a, b, c}              | ```set(abc)``` or ```{a,b,c}```         |\n",
        "| Booleans     | True or False                     | ```a==b``` or``` a!=b```       |"
      ]
    },
    {
      "cell_type": "code",
      "execution_count": 4,
      "metadata": {
        "colab": {
          "base_uri": "https://localhost:8080/"
        },
        "id": "pDQGRYORlqZ4",
        "outputId": "ddb9fe5b-e3da-47ec-ea20-11baeed4aa10"
      },
      "outputs": [
        {
          "name": "stdout",
          "output_type": "stream",
          "text": [
            "<class 'int'>\n",
            "<class 'float'>\n",
            "<class 'str'>\n",
            "<class 'bool'>\n",
            "<class 'bool'>\n"
          ]
        }
      ],
      "source": [
        "# integers\n",
        "print(type(10))\n",
        "# float \n",
        "print(type(1.82))\n",
        "# string\n",
        "print(type('Hello everyone'))\n",
        "# boolean\n",
        "print(type(2==1))\n",
        "print(type(False))"
      ]
    },
    {
      "cell_type": "code",
      "execution_count": 1,
      "metadata": {
        "id": "ysZL0WTb0Kqo"
      },
      "outputs": [
        {
          "name": "stdout",
          "output_type": "stream",
          "text": [
            "<class 'float'> <class 'str'> <class 'str'>\n"
          ]
        },
        {
          "data": {
            "text/plain": [
              "True"
            ]
          },
          "execution_count": 1,
          "metadata": {},
          "output_type": "execute_result"
        }
      ],
      "source": [
        "# before we run the code, let's guess what will happen\n",
        "\n",
        "# Comments\n",
        "\n",
        "str(2.2)\n",
        "float(2.2)\n",
        "str(2.2)\n",
        "bool(2.2) == True\n",
        "\n",
        "print(type(1.28), type(\"hello\"), type(\"300\"))\n",
        "\n",
        "type(\"300\") == type(\"hey\")"
      ]
    },
    {
      "attachments": {},
      "cell_type": "markdown",
      "metadata": {
        "id": "WR56coay1KVn"
      },
      "source": [
        "\n",
        "---\n",
        "### 1.1. List <a class=\"anchor\" id=\"list\"></a>\n",
        "\n",
        "> A ```[list]``` can be create in multiple ways by placing elements inside a square bracket ```[list]```\n",
        "\n"
      ]
    },
    {
      "cell_type": "code",
      "execution_count": 7,
      "metadata": {
        "id": "aI6dSZTbrS6e"
      },
      "outputs": [
        {
          "data": {
            "text/plain": [
              "[10, 11, 12, 13, 14, 15, 16, 17, 18, 19, 20]"
            ]
          },
          "execution_count": 7,
          "metadata": {},
          "output_type": "execute_result"
        }
      ],
      "source": [
        "list1 = [] # empty list\n",
        "list2 = [1,2,3,4] # integer elements \n",
        "list3 = ['hello', 'my', 'name', 'is', 'jinnie'] #string elements\n",
        "list4 = list(range(1,4)) # list using a range 1~3\n",
        "list4\n",
        "list5 = list(range(10,21))\n",
        "list5"
      ]
    },
    {
      "attachments": {},
      "cell_type": "markdown",
      "metadata": {
        "id": "VO7Rd47Ktf0Y"
      },
      "source": [
        "> Lists can be nested within each other as a nested list ```[[nested_list],[list]]```"
      ]
    },
    {
      "cell_type": "code",
      "execution_count": 10,
      "metadata": {
        "colab": {
          "base_uri": "https://localhost:8080/"
        },
        "id": "SiONb4MYtWJh",
        "outputId": "bfc6562f-abb7-4b72-bf85-99ecb7a89083"
      },
      "outputs": [
        {
          "data": {
            "text/plain": [
              "[['hello', 'my', 'name', 'is', 'jinnie'],\n",
              " [1, 2, 3, 4],\n",
              " [10, 11, 12, 13, 14, 15, 16, 17, 18, 19, 20]]"
            ]
          },
          "execution_count": 10,
          "metadata": {},
          "output_type": "execute_result"
        }
      ],
      "source": [
        "nested_list =[list3, list2, list5]\n",
        "nested_list"
      ]
    },
    {
      "attachments": {},
      "cell_type": "markdown",
      "metadata": {
        "id": "UG2PKQbav3jV"
      },
      "source": [
        "> Dimension of the list can be identified by chekcing the length of the list ```len(list(a))```"
      ]
    },
    {
      "cell_type": "code",
      "execution_count": 18,
      "metadata": {
        "colab": {
          "base_uri": "https://localhost:8080/"
        },
        "id": "MRsx4pqvuHP_",
        "outputId": "d0251f6e-8abd-4944-8a09-cd9aacc96524"
      },
      "outputs": [
        {
          "data": {
            "text/plain": [
              "11"
            ]
          },
          "execution_count": 18,
          "metadata": {},
          "output_type": "execute_result"
        }
      ],
      "source": [
        "len(nested_list)\n",
        "\n",
        "len(list3)\n",
        "\n",
        "## Get the final element of nested_list\n",
        "\n",
        "## len starts with position 0, so element 3 is index [2]\n",
        "len(nested_list[2])\n",
        "\n",
        "## or to get final element use -1, as it counts backwards\n",
        "##  -2 would be second from last\n",
        "len(nested_list[-1])"
      ]
    },
    {
      "attachments": {},
      "cell_type": "markdown",
      "metadata": {
        "id": "dnZoj9kNqXbn"
      },
      "source": [
        "> List elements can be accessed by indexing ```list[index]```"
      ]
    },
    {
      "cell_type": "code",
      "execution_count": null,
      "metadata": {
        "colab": {
          "base_uri": "https://localhost:8080/"
        },
        "id": "nR39VPERmEd8",
        "outputId": "28d7cb88-1a2f-4e08-81ea-9a2d8cbd8170"
      },
      "outputs": [
        {
          "data": {
            "text/plain": [
              "[]"
            ]
          },
          "execution_count": 7,
          "metadata": {
            "tags": []
          },
          "output_type": "execute_result"
        }
      ],
      "source": [
        "list2[0] # element indices start from 0 \n",
        "nested_list[0]"
      ]
    },
    {
      "cell_type": "code",
      "execution_count": 21,
      "metadata": {
        "colab": {
          "base_uri": "https://localhost:8080/"
        },
        "id": "Jdqy1wzJ00SS",
        "outputId": "1f34dc26-bfb6-40e3-88af-64fd5603cbd1"
      },
      "outputs": [
        {
          "data": {
            "text/plain": [
              "['hello', 'my', 'name', 'is', 'jinnie']"
            ]
          },
          "execution_count": 21,
          "metadata": {},
          "output_type": "execute_result"
        }
      ],
      "source": [
        "list3[-1] #final element can be accessed by negative indexing \n",
        "list3[0:2] # a range could be provided to call multiple elements\n",
        "                # Note this works like range() command, so final will be -1-ed\n",
        "                # Make sure \n",
        "list3[:-2] # except the last two elements\n",
        "list3[4:] # starting from the 4th element\n",
        "list3[:] # all the elements "
      ]
    },
    {
      "attachments": {},
      "cell_type": "markdown",
      "metadata": {
        "id": "_vTfK7TrqccV"
      },
      "source": [
        "> We can add, remove, or replace the elements using ```list.extend()```, ```list.append()```, ```list.remove()```, ```list.clear()```"
      ]
    },
    {
      "cell_type": "code",
      "execution_count": 34,
      "metadata": {
        "colab": {
          "base_uri": "https://localhost:8080/"
        },
        "id": "2Q4Dfl-NnK88",
        "outputId": "a335de61-2223-4bd2-d48e-b6f5bff7867f"
      },
      "outputs": [
        {
          "name": "stdout",
          "output_type": "stream",
          "text": [
            "revised list is ['Byeeee', 'my', 'name', 'is', 'Matt', 5, 6, 7, 8, 9, 10]\n",
            "revised list is ['Byeeee', 'my', 'name', 'is', 'Matt', 5, 6, 7, 8, 9, 'Matt']\n"
          ]
        }
      ],
      "source": [
        "list3[0] = 'Byeeee' # change the first element of list3 to 'Bye'\n",
        "print('revised list is ' + str(list3))\n",
        "\n",
        "list3[-1] = \"Matt\"\n",
        "print('revised list is ' + str(list3))"
      ]
    },
    {
      "cell_type": "code",
      "execution_count": 35,
      "metadata": {
        "colab": {
          "base_uri": "https://localhost:8080/"
        },
        "id": "1imoioLrnqX5",
        "outputId": "9b884df7-d2e7-49a2-e056-de84febdffa2"
      },
      "outputs": [
        {
          "name": "stdout",
          "output_type": "stream",
          "text": [
            "None\n"
          ]
        }
      ],
      "source": [
        "new_list = [5,6,7,8,9]\n",
        "complete_list1 = list3.extend(new_list) # extend the original list with a new list \n",
        "print(complete_list1)"
      ]
    },
    {
      "cell_type": "code",
      "execution_count": 36,
      "metadata": {
        "colab": {
          "base_uri": "https://localhost:8080/"
        },
        "id": "8eKr9t5I0kLL",
        "outputId": "88f5ff8f-268f-42dc-9ef8-14f7111d9a30"
      },
      "outputs": [
        {
          "name": "stdout",
          "output_type": "stream",
          "text": [
            "None\n"
          ]
        }
      ],
      "source": [
        "complete_list2 = list3.append(10) # append a new element\n",
        "print(complete_list2)"
      ]
    },
    {
      "cell_type": "code",
      "execution_count": 38,
      "metadata": {
        "colab": {
          "base_uri": "https://localhost:8080/"
        },
        "id": "GwE8XYrD4tuT",
        "outputId": "c0a71837-bc1c-469a-8279-8f7adf60308d"
      },
      "outputs": [
        {
          "ename": "ValueError",
          "evalue": "list.remove(x): x not in list",
          "output_type": "error",
          "traceback": [
            "\u001b[0;31m---------------------------------------------------------------------------\u001b[0m",
            "\u001b[0;31mValueError\u001b[0m                                Traceback (most recent call last)",
            "Cell \u001b[0;32mIn[38], line 1\u001b[0m\n\u001b[0;32m----> 1\u001b[0m new_list\u001b[39m.\u001b[39;49mremove(\u001b[39m5\u001b[39;49m) \u001b[39m# remove an element from the list \u001b[39;00m\n\u001b[1;32m      2\u001b[0m \u001b[39mprint\u001b[39m(new_list)\n",
            "\u001b[0;31mValueError\u001b[0m: list.remove(x): x not in list"
          ]
        }
      ],
      "source": [
        "new_list.remove(5) # remove an element from the list \n",
        "print(new_list)"
      ]
    },
    {
      "cell_type": "code",
      "execution_count": 37,
      "metadata": {
        "colab": {
          "base_uri": "https://localhost:8080/"
        },
        "id": "LHm0FZCa08ZG",
        "outputId": "815d92f8-bab0-4d23-f2d0-588d61b58c4b"
      },
      "outputs": [
        {
          "name": "stdout",
          "output_type": "stream",
          "text": [
            "[]\n"
          ]
        }
      ],
      "source": [
        "new_list.clear() # clear the list \n",
        "print(new_list)"
      ]
    },
    {
      "attachments": {},
      "cell_type": "markdown",
      "metadata": {
        "id": "-sVLmAui1u49"
      },
      "source": [
        "### 1.2. Matrix <a class=\"anchor\" id=\"matrix\"></a>\n",
        "\n",
        "> Python does not have a built-in type for matrices. Instead, we can treat list of a list as a matrix ```[[list], [list]]```"
      ]
    },
    {
      "cell_type": "code",
      "execution_count": 39,
      "metadata": {
        "id": "c2fAZfGLobLG"
      },
      "outputs": [
        {
          "data": {
            "text/plain": [
              "[[1, 2, 3, 4], [5, 6, 7, 8]]"
            ]
          },
          "execution_count": 39,
          "metadata": {},
          "output_type": "execute_result"
        }
      ],
      "source": [
        "matrix = [[1,2,3,4],\n",
        "          [5,6,7,8]]\n",
        "matrix"
      ]
    },
    {
      "cell_type": "code",
      "execution_count": null,
      "metadata": {},
      "outputs": [],
      "source": []
    },
    {
      "cell_type": "code",
      "execution_count": 47,
      "metadata": {
        "id": "Ed_BO6XzobLH"
      },
      "outputs": [
        {
          "name": "stdout",
          "output_type": "stream",
          "text": [
            "Requirement already satisfied: numpy in /Users/Matt/miniconda3/lib/python3.10/site-packages (1.24.3)\n"
          ]
        }
      ],
      "source": [
        "# Use ! to push the line to terminal\n",
        "!pip install numpy \n",
        "# conda install numpy\n",
        "# import numpy as np # import numpy functions as np "
      ]
    },
    {
      "attachments": {},
      "cell_type": "markdown",
      "metadata": {
        "id": "sxmTlC5KobLI"
      },
      "source": [
        "> We will import ```numpy``` to do simple matrix calculations"
      ]
    },
    {
      "cell_type": "code",
      "execution_count": 1,
      "metadata": {},
      "outputs": [],
      "source": [
        "import numpy as np"
      ]
    },
    {
      "cell_type": "code",
      "execution_count": 3,
      "metadata": {
        "id": "SRrZJiwsobLI"
      },
      "outputs": [
        {
          "name": "stdout",
          "output_type": "stream",
          "text": [
            "[[1 2 3 4]\n",
            " [5 6 7 8]]\n",
            "[[0 1]\n",
            " [2 3]\n",
            " [4 5]\n",
            " [7 8]]\n"
          ]
        },
        {
          "data": {
            "text/plain": [
              "(2, 4)"
            ]
          },
          "execution_count": 3,
          "metadata": {},
          "output_type": "execute_result"
        }
      ],
      "source": [
        "A = np.array([[1,2,3,4], [5,6,7,8]]) #np.array to create a matrix\n",
        "print(A)\n",
        "B = np.array([[0,1],[2,3],[4,5],[7,8]])\n",
        "print(B)\n",
        "A.shape # check dimensions "
      ]
    },
    {
      "cell_type": "code",
      "execution_count": 16,
      "metadata": {
        "id": "ipJGPrOIobLJ"
      },
      "outputs": [
        {
          "data": {
            "text/plain": [
              "array([[1, 1, 0],\n",
              "       [0, 0, 0]])"
            ]
          },
          "execution_count": 16,
          "metadata": {},
          "output_type": "execute_result"
        }
      ],
      "source": [
        "# Creates 2 x 3 matrix of all zeros, can be useful to set up a container for other data\n",
        "Z = np.zeros([2,3])\n",
        "# Creates 2 x 3 matrix random numbers, might be random weights you experiement with\n",
        "# Within range 0 to 1 by default\n",
        "R = np.random.rand(2,3)\n",
        "# Creates 2 x 3 matrix random intergers with range 0 - 1 (becasue range() is 2-1)\n",
        "I = np.random.randint(2, size=(2, 3))\n",
        "I"
      ]
    },
    {
      "attachments": {},
      "cell_type": "markdown",
      "metadata": {
        "id": "BqQ3owQ7obLL"
      },
      "source": [
        ">   We can use ```np.maxtrix()``` to create a matrix"
      ]
    },
    {
      "cell_type": "code",
      "execution_count": 20,
      "metadata": {
        "id": "s8jvOL9yobLL",
        "outputId": "8ee9a83a-81d6-422a-e5e7-b7b1732f6bfc"
      },
      "outputs": [],
      "source": [
        "# Numpy matrix uses spaces to sep values and semi-colons to sep columns\n",
        "aa = np.matrix('1 2 3 ; 4 5 6')\n",
        "aa\n",
        "\n",
        "D = np.random.randint(3, size = (3,3))"
      ]
    },
    {
      "attachments": {},
      "cell_type": "markdown",
      "metadata": {
        "id": "hSumRh46obLP"
      },
      "source": [
        "> We can access elements just like we did with a list using ```matrix[index][index]```"
      ]
    },
    {
      "cell_type": "code",
      "execution_count": 22,
      "metadata": {
        "id": "nTTcg9ihobLQ"
      },
      "outputs": [
        {
          "name": "stdout",
          "output_type": "stream",
          "text": [
            "[1 2 0]\n",
            "1\n"
          ]
        }
      ],
      "source": [
        "# print(D)\n",
        "print(D[0]) # first row \n",
        "print(D[0][0]) #first row, first element (0,0)"
      ]
    },
    {
      "attachments": {},
      "cell_type": "markdown",
      "metadata": {
        "id": "LmdhVl4xobLR"
      },
      "source": [
        "> We can compute a matrix transpose using ```matrix.transpose()```"
      ]
    },
    {
      "cell_type": "code",
      "execution_count": 24,
      "metadata": {
        "id": "3FtsBhsZobLR"
      },
      "outputs": [
        {
          "data": {
            "text/plain": [
              "array([[1, 2, 0],\n",
              "       [2, 0, 1],\n",
              "       [0, 1, 1]])"
            ]
          },
          "execution_count": 24,
          "metadata": {},
          "output_type": "execute_result"
        }
      ],
      "source": [
        "# Flips the matrix\n",
        "DT = D.transpose()\n",
        "DT"
      ]
    },
    {
      "attachments": {},
      "cell_type": "markdown",
      "metadata": {
        "id": "mK2qB0b6obLT"
      },
      "source": [
        "> We can create a dot product using ```matrix.dot()```"
      ]
    },
    {
      "cell_type": "code",
      "execution_count": 26,
      "metadata": {
        "id": "94z25qE_obLm"
      },
      "outputs": [
        {
          "data": {
            "text/plain": [
              "array([[5, 2, 2],\n",
              "       [2, 5, 1],\n",
              "       [2, 1, 2]])"
            ]
          },
          "execution_count": 26,
          "metadata": {},
          "output_type": "execute_result"
        }
      ],
      "source": [
        "# Multiply the matrix by each other\n",
        "DxDT = D.dot(DT)\n",
        "DxDT"
      ]
    },
    {
      "attachments": {},
      "cell_type": "markdown",
      "metadata": {
        "id": "I4z3hmkNobLn"
      },
      "source": [
        "> We can compute the Euclidean distance between the two vectors (or lists) using ```np.linalg.norm```"
      ]
    },
    {
      "cell_type": "code",
      "execution_count": null,
      "metadata": {
        "id": "-CoKnTmnobLo"
      },
      "outputs": [],
      "source": [
        "E = np.array([[-7,-3,-2,1],[1,3,6,9]])\n",
        "# Euclidean distance\n",
        "dist = np.linalg.norm(A-E)\n",
        "dist"
      ]
    },
    {
      "attachments": {},
      "cell_type": "markdown",
      "metadata": {
        "id": "86864r492LsE"
      },
      "source": [
        "<img src=\"https://i.pinimg.com/736x/2e/aa/7d/2eaa7d5021ca7c3c98bc93b98b9646fe.jpg\" align=\"left\" width=\"70\" height=\"70\" align=\"left\">\n",
        "\n",
        "> ### Task 1 - Create multiple matrices from a list\n",
        "> - *Q1*: Create a 4 by 4 matrix from the list and call it M1 - HINT (```.reshape```)\n",
        "> - *Q2*: Get the (1) tanspose (```matrix.transpose()```) and (2) inverse of the matrix M1\n",
        "> - *Q3*: Get the dot product of (1) M1 and its transpose and (2) M1 and its inverse\n",
        "\n"
      ]
    },
    {
      "cell_type": "code",
      "execution_count": 30,
      "metadata": {
        "id": "9QgZGTmr2IVy"
      },
      "outputs": [
        {
          "data": {
            "text/plain": [
              "matrix([[0.28322858, 0.73237643, 0.28917624, 0.63743382],\n",
              "        [0.86533831, 0.80069317, 0.03126777, 0.36922641],\n",
              "        [0.16201467, 0.59873606, 0.3427353 , 0.75680401],\n",
              "        [0.8415933 , 0.07515508, 0.62439638, 0.15258954]])"
            ]
          },
          "execution_count": 30,
          "metadata": {},
          "output_type": "execute_result"
        }
      ],
      "source": [
        "lst = np.random.rand(16)\n",
        "lst\n",
        "############################# Your code Here ############################################\n",
        "\n",
        "# Q1: Create a 4 by 4 matrix from the list and call it M1 - HINT (.reshape)\n",
        "M1 = np.matrix(lst)\n",
        "M1\n",
        "\n",
        "M2 = np.reshape(M1, newshape = [4,4])\n",
        "M2\n",
        "##########################################################################################"
      ]
    },
    {
      "cell_type": "code",
      "execution_count": 39,
      "metadata": {
        "id": "s0csNEmw2RcZ"
      },
      "outputs": [],
      "source": [
        "############################# Your code Here ############################################\n",
        "# Q2: Get the (1) tanspose and (2) inverse of the matrix M1\n",
        "\n",
        "M3 = np.matrix.transpose(M2)\n",
        "\n",
        "M5 = np.linalg.inv(M2)\n",
        "\n",
        "##########################################################################################"
      ]
    },
    {
      "cell_type": "code",
      "execution_count": 40,
      "metadata": {
        "id": "HErtwSMe2SkY"
      },
      "outputs": [],
      "source": [
        "############################### Your code Here ###########################################\n",
        "# Q3: Get the dot product of (1) M1 and its transpose and (2) M1 and its inverse\n",
        "\n",
        "M4 = M2.dot(M3)\n",
        "M6 = M2.dot(M5)\n",
        "\n",
        "\n",
        "\n",
        "##########################################################################################"
      ]
    },
    {
      "attachments": {},
      "cell_type": "markdown",
      "metadata": {
        "id": "IDM-F5cZ2apU"
      },
      "source": [
        "### 1.3. Dictionary <a class=\"anchor\" id=\"dict\"></a>\n",
        "> Python dictionaries ```{ }``` store keys: values to easily access values that are mapped together ```dict[key] = value```"
      ]
    },
    {
      "cell_type": "code",
      "execution_count": 42,
      "metadata": {
        "id": "2SH0_rjG2aTc"
      },
      "outputs": [],
      "source": [
        "# Need to create a blank dictionary first\n",
        "Dict = {}"
      ]
    },
    {
      "cell_type": "code",
      "execution_count": 44,
      "metadata": {
        "id": "3xy7R6_q2d7q"
      },
      "outputs": [
        {
          "name": "stdout",
          "output_type": "stream",
          "text": [
            "{'Connie': '1990-06-18', 'Cora': '1994-07-17', 'Hunter': '1998-01-01', 'James': '1970-08-15', 'Sophie': '2001-02-14'}\n"
          ]
        }
      ],
      "source": [
        "# Now you can add keys (names) and values (birthdays) to slots in the blank Dict\n",
        "Dict['Connie'] = '1990-06-18' # add elements using [keys] = values \n",
        "Dict['Cora'] = '1994-07-17'\n",
        "Dict['Hunter'] = '1998-01-01'\n",
        "Dict['James'] = '1970-08-15'\n",
        "Dict['Sophie'] = '2001-02-14'\n",
        "\n",
        "print(Dict)"
      ]
    },
    {
      "attachments": {},
      "cell_type": "markdown",
      "metadata": {
        "id": "fNR9NFW52hxa"
      },
      "source": [
        "> You can define all the keys/values when creating a dictionary as well ```{key:value}```"
      ]
    },
    {
      "cell_type": "code",
      "execution_count": 45,
      "metadata": {
        "id": "HknJFXVq2f4p"
      },
      "outputs": [
        {
          "data": {
            "text/plain": [
              "True"
            ]
          },
          "execution_count": 45,
          "metadata": {},
          "output_type": "execute_result"
        }
      ],
      "source": [
        "new_dict = {'Cora': '1994-07-17',\n",
        "            'Hunter': '1998-01-01',\n",
        "            'James': '1970-08-15',\n",
        "            'Sophie': '2001-02-14',\n",
        "            'Connie': '1990-06-18'}\n",
        "\n",
        "# Checks they are the same as each other\n",
        "new_dict == Dict"
      ]
    },
    {
      "attachments": {},
      "cell_type": "markdown",
      "metadata": {
        "id": "5-M6UftM2joH"
      },
      "source": [
        "> You can easily accessing information with the dictionary keys"
      ]
    },
    {
      "cell_type": "code",
      "execution_count": 46,
      "metadata": {
        "id": "Gc1zvQ4f2jzf"
      },
      "outputs": [
        {
          "data": {
            "text/plain": [
              "'1990-06-18'"
            ]
          },
          "execution_count": 46,
          "metadata": {},
          "output_type": "execute_result"
        }
      ],
      "source": [
        "# Now we want to get Connie's birthday\n",
        "Dict['Connie']"
      ]
    },
    {
      "attachments": {},
      "cell_type": "markdown",
      "metadata": {
        "id": "VSsvOzPB2l_1"
      },
      "source": [
        "> You can extract the keys and values using ``` {dict}.keys()``` and ```{dict}.values()```"
      ]
    },
    {
      "cell_type": "code",
      "execution_count": 47,
      "metadata": {
        "id": "4uZWwkQg2mJh"
      },
      "outputs": [
        {
          "data": {
            "text/plain": [
              "dict_values(['1990-06-18', '1994-07-17', '1998-01-01', '1970-08-15', '2001-02-14'])"
            ]
          },
          "execution_count": 47,
          "metadata": {},
          "output_type": "execute_result"
        }
      ],
      "source": [
        "Dict.keys()\n",
        "Dict.values()"
      ]
    },
    {
      "cell_type": "code",
      "execution_count": 48,
      "metadata": {
        "id": "UbXd2Pkk2onH"
      },
      "outputs": [
        {
          "data": {
            "text/plain": [
              "['Connie', 'Cora', 'Hunter', 'James', 'Sophie']"
            ]
          },
          "execution_count": 48,
          "metadata": {},
          "output_type": "execute_result"
        }
      ],
      "source": [
        "names = list(Dict.keys())\n",
        "bdays = list(Dict.values())\n",
        "names"
      ]
    },
    {
      "attachments": {},
      "cell_type": "markdown",
      "metadata": {
        "id": "86gPZuxq2neJ"
      },
      "source": [
        "<img src=\"https://i.pinimg.com/736x/2e/aa/7d/2eaa7d5021ca7c3c98bc93b98b9646fe.jpg\" align=\"left\" width=\"70\" height=\"70\" align=\"left\">\n",
        "\n",
        "\n",
        "> ### Task 2 - Create a new dictionary \n",
        "> - *Q1*: Create a new dictionary that stores birthdays as keys and names as vlalues and call it ```re_dict```\n",
        "> - *Q2*: Remove month-date from the keys and call it ```new_dict```"
      ]
    },
    {
      "cell_type": "code",
      "execution_count": 50,
      "metadata": {
        "id": "xUHnWLzc2u7O"
      },
      "outputs": [],
      "source": [
        "################################ Your code Here #########################################\n",
        "# Hint zip()\n",
        "\n",
        "# Zips two lists together than are the same length\n",
        "re_dict = zip(names, bdays)\n",
        "\n",
        "# expected outcome:\n",
        "#{'Connie': '1990-06-18',\n",
        "# 'Cora': '1994-07-17',\n",
        "# 'Hunter': '1998-01-01',\n",
        "# 'James': '1970-08-15',\n",
        "# 'Sophie': '2001-02-14'}\n",
        "##########################################################################################"
      ]
    },
    {
      "cell_type": "code",
      "execution_count": 61,
      "metadata": {
        "id": "E0kOjb8u2xg0"
      },
      "outputs": [
        {
          "name": "stdout",
          "output_type": "stream",
          "text": [
            "['1990', '1994', '1998', '1970', '2001']\n",
            "<zip object at 0x7f96f9d825c0>\n"
          ]
        }
      ],
      "source": [
        "################################## Your code Here #######################################\n",
        "#Hint  str.split('')\n",
        "\n",
        "# This is how it works\n",
        "\"1990-06-18\".split(sep = \"-\")\n",
        "\n",
        "# Make empty list for years\n",
        "years = []\n",
        "\n",
        "# For loop\n",
        "for i in bdays:\n",
        "    temp = i.split(sep = \"-\")\n",
        "    year = temp[0] # This will be the year as its the first index of the split list\n",
        "    years.append(year) # This will add each year to the \n",
        "\n",
        "print(years)\n",
        "\n",
        "new_dict = zip(names, years)\n",
        "print(new_dict)\n",
        "\n",
        "# expected outcome\n",
        "#{'1970': 'James',\n",
        "# '1993': 'Jinnie',\n",
        "# '1994': 'Cora',\n",
        "# '1998': 'Hunter',\n",
        "# '2001': 'Sophie'}\n",
        "#########################################################################################"
      ]
    },
    {
      "attachments": {},
      "cell_type": "markdown",
      "metadata": {
        "id": "ORZxmtKE2zul"
      },
      "source": [
        "<img src=\"https://i.pinimg.com/736x/2e/aa/7d/2eaa7d5021ca7c3c98bc93b98b9646fe.jpg\" align=\"left\" width=\"70\" height=\"70\" align=\"left\">\n",
        "\n",
        "\n",
        "> ### Task 3 - Apply a function to the dictionary \n",
        "> - *Q1*: what is the average quiz scores of jinnie, erin, and mark, respectively?\n",
        "> - *Q2*: In which quiz, did jinnie, eric and mark achieve the highest score, respectively?\n"
      ]
    },
    {
      "cell_type": "code",
      "execution_count": 91,
      "metadata": {
        "id": "a7g9x7A420E3",
        "outputId": "251e2458-c16e-4fb6-90b8-abe6a10908ea"
      },
      "outputs": [
        {
          "name": "stdout",
          "output_type": "stream",
          "text": [
            "67.0\n",
            "94.25\n",
            "How about Erin's score?\n"
          ]
        },
        {
          "data": {
            "text/plain": [
              "88.0"
            ]
          },
          "execution_count": 91,
          "metadata": {},
          "output_type": "execute_result"
        }
      ],
      "source": [
        "# Nested dictionary with quiz dictionary having multiple values\n",
        "result = {'jinnie': {'quiz': [90.0,97.0,75.0,92.0]},\n",
        "          'erin':{'quiz' : [ 100.0, 92.0, 93.0, 67.0]},\n",
        "          'mark':{'quiz': [100.0, 91.0, 89.0, 97.0]}\n",
        "}\n",
        "\n",
        "\n",
        "# what is the average quiz scores of jinnie, erin, and mark, respectively?\n",
        "\n",
        "####################### Your code here #####################\n",
        "\n",
        "result['jinnie'] # we know that this function will take an input eg. {'quiz': [90.0, 97.0, 75.0, 92.0]}\n",
        "result['jinnie']['quiz'] # now we have a list that only saves the quiz score\n",
        "print(np.min(result[\"erin\"][\"quiz\"])) \n",
        "\n",
        "## Define a function called mean_score()\n",
        "    ## Taking inputs input_dic\n",
        "def mean_score(input_dic): \n",
        "        ## Take a the quiz from the input input_dic and save it in temp\n",
        "    temp = input_dic['quiz'] #this will output a list = []\n",
        "    \n",
        "    # numpy average is the mean\n",
        "    return np.average(temp)\n",
        "\n",
        "\n",
        "###########################################################\n",
        "score = mean_score(result['mark']) # Use the above defined function\n",
        "print(score)\n",
        "\n",
        "print(\"How about Erin's score?\")\n",
        "mean_score(result['erin'])"
      ]
    },
    {
      "cell_type": "code",
      "execution_count": 96,
      "metadata": {
        "id": "76DrtkPc23tS",
        "outputId": "8f607b2a-8ee6-48b3-ee6a-9c42f34fd747"
      },
      "outputs": [
        {
          "name": "stdout",
          "output_type": "stream",
          "text": [
            "Highest score in quiz  2\n",
            "Lowest score in quiz  4\n",
            "Lowest score in quiz  3\n",
            "Lowest score in quiz  3\n"
          ]
        }
      ],
      "source": [
        "# In which quiz, did jinnie, erin and mark achieve the highest score, respectively?\n",
        "\n",
        "####################### Your code here ######################\n",
        "\n",
        "# New function to return where students scored the highest\n",
        "def where_highest(input_dic):\n",
        "    temp = input_dic['quiz'] #this will output a list = [] \n",
        "\n",
        "    return print('Highest score in quiz ', np.argmax(temp)+1)\n",
        "\n",
        "############################################################\n",
        "\n",
        "where_highest(result['jinnie'])\n",
        "\n",
        "## Create a function that identifies when each person scores the lowest\n",
        "def where_lowest(input_dic):\n",
        "    temp = input_dic['quiz'] #this will output a list = [] \n",
        "\n",
        "    return print('Lowest score in quiz ', np.argmin(temp)+1)\n",
        "\n",
        "where_lowest(result['erin'])\n",
        "where_lowest(result['jinnie'])\n",
        "where_lowest(result['mark'])"
      ]
    },
    {
      "attachments": {},
      "cell_type": "markdown",
      "metadata": {
        "id": "u65ciCv0obL4"
      },
      "source": [
        "### 1.4. String <a class=\"anchor\" id=\"string\"></a>\n",
        "> There are number of built-in string objects to implememnt higher-level operations with strings (e.g., parsing, joinining) \n",
        "\n",
        "|      Method  Type      |                                                                    Description                                                                    |\n",
        "|:----------------------|:-------------------------------------------------------------------------------------------------------------------------------------------------|\n",
        "| ```S.capitalize()```         | returns a string with the first character in the capital                                                                                          |\n",
        "| ```S.upper()```  ```S.lower()``` | ```.upper()``` method on a string converts all of the characters to uppercase,  whereas the ```.lower()``` method converts all of the characters to lowercase |\n",
        "| ```S.casefold()```           | removes all case distinctions present in a string                                                                                                 |\n",
        "| ```S.encode()```             | returns encoded version of the given string                                                                                                       |\n",
        "| ```S.find()```               | returns the index of first occurrence of the substring (if found). If not found, it returns -1.                                                   |\n",
        "| ```S.index()```              | returns the index of a substring inside the string (if found). If the substring is not found, it raises an exception.                             |\n",
        "| ```S.isalpha() ```           | returns True if all characters in the string are alphabets. If not, it returns False.                                                             |\n",
        "| ```S.isdigit()```            | returns True if all characters in a string are digits. If not, it returns False.                                                                  |\n",
        "| ```S.replace() ```           | returns a copy of the string in which the occurrences of old have been replaced with new value                                                    |\n",
        "|``` S.split() ```             | split a string into a list where each word is a list item.returns a copy of the string by removing the trailing characters specified as argument  |\n",
        "| ```S.rstrip()```             | returns a copy of the string by removing the trailing characters specified as argument                                                            |"
      ]
    },
    {
      "cell_type": "code",
      "execution_count": 68,
      "metadata": {
        "id": "cWr0WWuHobL4",
        "outputId": "3b2b8b70-5700-4fb4-8f93-dabffd12bda8"
      },
      "outputs": [
        {
          "data": {
            "text/plain": [
              "'We can try all of this functions!'"
            ]
          },
          "execution_count": 68,
          "metadata": {},
          "output_type": "execute_result"
        }
      ],
      "source": [
        "## Let's explore!\n",
        "S = \"WE CAN TRY ALL OF THIS FUNCTIONS!\"\n",
        "\n",
        "S.lower().capitalize()"
      ]
    },
    {
      "attachments": {},
      "cell_type": "markdown",
      "metadata": {
        "id": "DCTZzvqOobL5"
      },
      "source": [
        "> Individual elements in string can be accessed as in lists."
      ]
    },
    {
      "cell_type": "code",
      "execution_count": 69,
      "metadata": {
        "id": "M8EO72cOobL6",
        "outputId": "aa142ec8-9b5b-4a57-b277-7dd4d33e8c05"
      },
      "outputs": [
        {
          "data": {
            "text/plain": [
              "'.'"
            ]
          },
          "execution_count": 69,
          "metadata": {},
          "output_type": "execute_result"
        }
      ],
      "source": [
        "string ='here is another example. more than 100 examples will be provided in this class.'\n",
        "string[0] # can you guess the output?\n",
        "string[-1] # can you guess the output?"
      ]
    },
    {
      "attachments": {},
      "cell_type": "markdown",
      "metadata": {
        "id": "I0UvB9rcobL6"
      },
      "source": [
        "<img src=\"https://i.pinimg.com/736x/2e/aa/7d/2eaa7d5021ca7c3c98bc93b98b9646fe.jpg\" align=\"left\" width=\"70\" height=\"70\" align=\"left\">\n",
        "\n",
        "\n",
        "### Task 4 - String Methods\n",
        "> - *Q1*: Replace the word \"examples\" to \"pratice questions\" in the given string.  (S.replace())\n",
        "> - *Q2*: Capitalize the first letters in each sentence. (S.capitalize())\n",
        "> - *Q3*: Identify the index of the first time the alphabet 'i' appears in the given string. (S.find())\n"
      ]
    },
    {
      "cell_type": "code",
      "execution_count": 112,
      "metadata": {
        "id": "gbT8X1ZPobL7",
        "outputId": "f38f4b7f-40d8-4f4e-c78f-d2b83f34b507"
      },
      "outputs": [
        {
          "data": {
            "text/plain": [
              "'Matt_has_the_examples'"
            ]
          },
          "execution_count": 112,
          "metadata": {},
          "output_type": "execute_result"
        }
      ],
      "source": [
        "####################### Your code here ######################\n",
        "# Q1. replace the word \"examples\" to \"pratice questions\" in the given string using S.replace()\n",
        "string = \"Matt has the examples\"\n",
        "\n",
        "string.replace('examples', 'practice questions')\n",
        "\n",
        "string.lower()\n",
        "string.upper()\n",
        "string.capitalize()\n",
        "string.split(\"has\")\n",
        "\n",
        "# Replace spaces with nothing\n",
        "string.replace(\" \", \"\")\n",
        "string.replace(\" \", \"_\")\n",
        "\n",
        "############################################################"
      ]
    },
    {
      "cell_type": "code",
      "execution_count": 118,
      "metadata": {
        "id": "jdmOL2WdobL8",
        "outputId": "a64ab05b-4144-4271-f961-7187617505eb"
      },
      "outputs": [
        {
          "name": "stdout",
          "output_type": "stream",
          "text": [
            "there.\n",
            "Hi there\n",
            "How are you?\n",
            "{' ', 't', 'r', 'i', 'H', 'h', 'e'}\n"
          ]
        },
        {
          "data": {
            "text/plain": [
              "{' ', '?', 'H', 'a', 'e', 'o', 'r', 'u', 'w', 'y'}"
            ]
          },
          "execution_count": 118,
          "metadata": {},
          "output_type": "execute_result"
        }
      ],
      "source": [
        "####################### Your code here ######################\n",
        "# Q2. Identify the total number of unique alphbets in the given string. (S.isaplha())\n",
        "string = \"Hi there. How are you?\"\n",
        "\n",
        "print(string.split(' ')[1])\n",
        "\n",
        "# Split the string by period and space\n",
        "new_string = string.split('. ')\n",
        "new_string\n",
        "\n",
        "first_sentence = new_string[0]\n",
        "print(first_sentence)\n",
        "second_sentence= new_string[-1] # or you can do [1]\n",
        "print(second_sentence)\n",
        "\n",
        "# Set gets the letters used in creating the string\n",
        "first_sentence_letters = set(first_sentence)\n",
        "print(first_sentence_letters)\n",
        "\n",
        "second_sentence_letters = set(second_sentence)\n",
        "second_sentence_letters\n",
        "############################################################"
      ]
    },
    {
      "cell_type": "code",
      "execution_count": 72,
      "metadata": {
        "id": "SUt4A-nZobL8",
        "outputId": "f2c43edb-cd4f-4746-b193-c92bf94c6bd7"
      },
      "outputs": [
        {
          "data": {
            "text/plain": [
              "'i'"
            ]
          },
          "execution_count": 72,
          "metadata": {},
          "output_type": "execute_result"
        }
      ],
      "source": [
        "####################### Your code here ######################\n",
        "# Q3. Identify the index of the first time the alphabet 'i' appears in the given string. (S.find())\n",
        "string.find('i')\n",
        "string[5] # this is actually the 6th element because of the weird range thing\n",
        "############################################################"
      ]
    },
    {
      "attachments": {},
      "cell_type": "markdown",
      "metadata": {
        "id": "41WJTvnoobL9"
      },
      "source": [
        "## 2. Basic Python Statement <a class=\"anchor\" id=\"statement\"></a>"
      ]
    },
    {
      "attachments": {},
      "cell_type": "markdown",
      "metadata": {
        "id": "tkmtJbkCobL9"
      },
      "source": [
        "> There are *three* types of loops and statements in Python, For loops, While loops, and if-else statements. \n",
        ">>```For loops```: Iterates over a sequence of elements in a list or a range.\\\n",
        ">>```While loops```: Repeat as long as a certain boolean condition satisfies.\\\n",
        ">>```If-else statement```: conditional statements that provide you with the decision making that is required when you want to execute code based on a particular condition.\n",
        "\n",
        "### 2.1. For Loops <a class=\"anchor\" id=\"for\"></a>\n",
        "    > for i in list: \n",
        "        {action}\n",
        "      "
      ]
    },
    {
      "cell_type": "code",
      "execution_count": 122,
      "metadata": {
        "id": "zkVukjeEobL-",
        "outputId": "83d59d64-bcb1-44c0-fb8d-f8b3008dac33"
      },
      "outputs": [
        {
          "name": "stdout",
          "output_type": "stream",
          "text": [
            "1\n",
            "2\n",
            "3\n",
            "4\n",
            "2\n",
            "3\n",
            "4\n",
            "5\n",
            "[11]\n",
            "[11, 12]\n",
            "[11, 12, 13]\n",
            "[11, 12, 13, 14]\n"
          ]
        }
      ],
      "source": [
        "list2 =[ 1,2,3,4] # we will work with this list\n",
        "\n",
        "for prime in list2:\n",
        "  print(prime)\n",
        "\n",
        "for i in list2:\n",
        "  print(i + 1)\n",
        "\n",
        "list3 = []\n",
        "for i in list2:\n",
        "  temp = i+10\n",
        "  list3.append(temp)\n",
        "  print(list3)"
      ]
    },
    {
      "cell_type": "code",
      "execution_count": 123,
      "metadata": {
        "id": "wXSTP25_obL-",
        "outputId": "10562ad7-415a-4b67-c7d6-b1816bd51b60"
      },
      "outputs": [
        {
          "name": "stdout",
          "output_type": "stream",
          "text": [
            "odd number\n",
            "2\n",
            "odd number\n",
            "4\n"
          ]
        }
      ],
      "source": [
        "for prime in range(1,5): # range(1,5) = [1,5) 1, 2, 3, 4 \n",
        "  # % is remainder after divide, so this is checking if even number\n",
        "  if (prime % 2) == 0: # % modulus # if this is true  # this is why the definition concerned \"boolean\"\n",
        "    print(prime)\n",
        "  else:\n",
        "    print('odd number')\n",
        "    \n"
      ]
    },
    {
      "attachments": {},
      "cell_type": "markdown",
      "metadata": {
        "id": "u-2faGWwobL_"
      },
      "source": [
        "> We can also write a for loop in one line ```[print(i) for i in list]```"
      ]
    },
    {
      "cell_type": "code",
      "execution_count": 75,
      "metadata": {
        "id": "7nxOMqFmobMA",
        "outputId": "eb069d78-f046-44d8-9984-45511435cf82"
      },
      "outputs": [
        {
          "name": "stdout",
          "output_type": "stream",
          "text": [
            "1\n",
            "2\n",
            "3\n",
            "4\n",
            "1\n",
            "2\n",
            "3\n",
            "4\n"
          ]
        },
        {
          "data": {
            "text/plain": [
              "[None, None, None, None]"
            ]
          },
          "execution_count": 75,
          "metadata": {},
          "output_type": "execute_result"
        }
      ],
      "source": [
        "for prime in list2:\n",
        "    print(prime)\n",
        "\n",
        "\n",
        "## Alternate way of writing functions, it's the same thing but backwards    \n",
        "[print(prime) for prime in list2]"
      ]
    },
    {
      "attachments": {},
      "cell_type": "markdown",
      "metadata": {
        "id": "e7pprulOobMB"
      },
      "source": [
        "### 2.2. While Loops <a class=\"anchor\" id=\"while\"></a>\n",
        "    > while i == {Condition}: \n",
        "        {action}"
      ]
    },
    {
      "cell_type": "code",
      "execution_count": 76,
      "metadata": {
        "id": "xhCgL803obMC",
        "outputId": "ecb8556d-cf69-47b5-ee6a-9767148e782b"
      },
      "outputs": [
        {
          "name": "stdout",
          "output_type": "stream",
          "text": [
            "0\n",
            "1\n",
            "2\n",
            "3\n",
            "4\n",
            "5\n",
            "6\n",
            "7\n",
            "8\n",
            "9\n"
          ]
        }
      ],
      "source": [
        "# print 0,1,2,3,4\n",
        "count = 0\n",
        "while count < 10: \n",
        "  print(count)\n",
        "  count += 1 # this equals to count = count + 1 (shorthand)\n",
        "    "
      ]
    },
    {
      "attachments": {},
      "cell_type": "markdown",
      "metadata": {
        "id": "lEQ1yVRFobMD"
      },
      "source": [
        "> You can also ```break``` or ```continue``` the while loop "
      ]
    },
    {
      "cell_type": "code",
      "execution_count": 77,
      "metadata": {
        "id": "mGgwonzSobME",
        "outputId": "4e2aafd4-dab6-4550-d7a8-fdb3ae36a618"
      },
      "outputs": [
        {
          "name": "stdout",
          "output_type": "stream",
          "text": [
            "0\n",
            "1\n",
            "2\n",
            "3\n",
            "4\n",
            "1\n",
            "3\n",
            "5\n",
            "7\n",
            "9\n"
          ]
        }
      ],
      "source": [
        "count = 0\n",
        "while True:\n",
        "  print(count)\n",
        "  count +=1\n",
        "  if count >= 5:\n",
        "    break \n",
        "\n",
        "# Prints out only odd numbers - 1,3,5,7,9\n",
        "for x in range(10):\n",
        "    # Check if x is even\n",
        "    if x % 2 == 0:\n",
        "        continue\n",
        "    print(x)\n"
      ]
    },
    {
      "attachments": {},
      "cell_type": "markdown",
      "metadata": {
        "id": "SFKgCrX6obMF"
      },
      "source": [
        "> A simple element-wise operation with ```zip()``` or ```for-loop```"
      ]
    },
    {
      "cell_type": "code",
      "execution_count": 124,
      "metadata": {
        "id": "M3_MK20oobMG"
      },
      "outputs": [],
      "source": [
        "odd_list = [1, 3, 5, 7, 9]\n",
        "even_list = [2, 4, 6, 8, 10]"
      ]
    },
    {
      "cell_type": "code",
      "execution_count": 125,
      "metadata": {
        "id": "LsnmXpfXobMH",
        "outputId": "7e13d3c1-bb4b-4cbb-bb53-b73bceae48a2"
      },
      "outputs": [
        {
          "name": "stdout",
          "output_type": "stream",
          "text": [
            "element-wise addition: [1, 3, 5, 7, 9, 2, 4, 6, 8, 10]\n"
          ]
        }
      ],
      "source": [
        "add = odd_list + even_list # Just appends the lists, does't interlock them\n",
        "print('element-wise addition: ' + str(add))"
      ]
    },
    {
      "cell_type": "code",
      "execution_count": 127,
      "metadata": {
        "id": "82GfNgqQobMI",
        "outputId": "7f6a69aa-e876-4c2b-b007-95a79b9a97a8"
      },
      "outputs": [
        {
          "name": "stdout",
          "output_type": "stream",
          "text": [
            "element-wise addition using zip(): [-1, -1, -1, -1, -1]\n",
            "3\n",
            "7\n",
            "11\n",
            "15\n",
            "19\n"
          ]
        }
      ],
      "source": [
        "add = [odd-even for odd, even in zip(odd_list, even_list)]\n",
        "print('element-wise addition using zip(): ' + str(add))\n",
        "\n",
        "\n",
        "## Making a loop with two elements i and j and two lists odd_list and even_list\n",
        "for i, j in zip(odd_list, even_list):\n",
        "    print(i + j)\n"
      ]
    },
    {
      "cell_type": "code",
      "execution_count": 81,
      "metadata": {
        "id": "tzIkKi0eobMJ"
      },
      "outputs": [
        {
          "name": "stdout",
          "output_type": "stream",
          "text": [
            "element-wise addition using a loop: [2, 12, 30, 56, 90]\n"
          ]
        }
      ],
      "source": [
        "add = [odd_list[i]*even_list[i] for i in range(len(odd_list))]\n",
        "print('element-wise addition using a loop: ' + str(add))"
      ]
    },
    {
      "attachments": {},
      "cell_type": "markdown",
      "metadata": {
        "id": "wpKLXa9qobMJ"
      },
      "source": [
        "### 2.3. If/elif/else statement <a class=\"anchor\" id=\"if\"></a>\n",
        "    > if {Condition1}:\n",
        "        {action}\n",
        "      elif {Condition2}:\n",
        "        {action}\n",
        "      else:\n",
        "        {action}\n",
        "      "
      ]
    },
    {
      "cell_type": "code",
      "execution_count": 82,
      "metadata": {
        "id": "KgotqM5aobMK",
        "outputId": "9550a1e8-c173-4b71-9c09-66d46edff292"
      },
      "outputs": [
        {
          "name": "stdout",
          "output_type": "stream",
          "text": [
            "value too small\n",
            "value appropriate\n",
            "5\n",
            "7\n",
            "9\n"
          ]
        }
      ],
      "source": [
        "## elif is equivilant to else if{} in R\n",
        "\n",
        "for i in odd_list: \n",
        "    if i <2:\n",
        "        print('value too small')\n",
        "    elif i==3:\n",
        "        print('value appropriate')\n",
        "    else:\n",
        "        print(i)\n",
        "    "
      ]
    },
    {
      "attachments": {},
      "cell_type": "markdown",
      "metadata": {
        "id": "ODnqi5pLobML"
      },
      "source": [
        "<img src=\"https://i.pinimg.com/736x/2e/aa/7d/2eaa7d5021ca7c3c98bc93b98b9646fe.jpg\" align=\"left\" width=\"70\" height=\"70\" align=\"left\">\n",
        "\n",
        "\n",
        "### Task 5 - Simple Calculation using for loops \n",
        "> - *Q1*: Conduct a element-wise subtraction ```even_list``` - ```odd_list```\n",
        "> - *Q2*: Translate character of alphabet into a simple number decipher! (HINT: ```chr()``` returns character from the number e.g. ```chr(65) ='A'```) \n",
        "> - *Q3*: defining a function called ```def encode``` that encodes a string into a list of number or digits\n",
        "\n"
      ]
    },
    {
      "cell_type": "code",
      "execution_count": 129,
      "metadata": {
        "id": "J2Q7ZDtaobMM",
        "outputId": "efaf5236-90b1-438d-8cf0-3b54d66a3b0f"
      },
      "outputs": [
        {
          "name": "stdout",
          "output_type": "stream",
          "text": [
            "[1, 1, 1, 1, 1]\n"
          ]
        }
      ],
      "source": [
        "######################## Your Code Here ###########################\n",
        "#Q1 ANSWER \n",
        "\n",
        "even_list = [2,4,6,8,10]\n",
        "odd_list = [1,3,5,7,9]\n",
        "\n",
        "sub = [even - odd for (even, odd) in zip(even_list, odd_list)] \n",
        "print(sub)\n",
        "\n",
        "\n",
        "###################################################################"
      ]
    },
    {
      "cell_type": "code",
      "execution_count": 139,
      "metadata": {
        "id": "N31C7veqobMM",
        "outputId": "dad77f64-53a9-4bcf-cb19-769709b4e57b"
      },
      "outputs": [
        {
          "name": "stdout",
          "output_type": "stream",
          "text": [
            "I   k n o w   i t   i s   h a r d   t o   c o m e   h e r e   e v e r y   s a t u r d a y .\n"
          ]
        }
      ],
      "source": [
        "encoded = [73, 32, 107, 110, 111, 119, 32, 105, 116, 32, 105, 115, 32, \n",
        "           104, 97, 114, 100, 32, 116, 111, 32, 99, 111, 109, 101, 32,\n",
        "           104, 101, 114, 101, 32, 101, 118, 101, 114, 121, 32, \n",
        "           115, 97, 116, 117, 114, 100, 97, 121, 46]\n",
        "\n",
        "def decode(encoded): # defining a function called \"decode\"\n",
        "    final = [] \n",
        "    ####### your code here ###############\n",
        "    #Q2 ANSWER \n",
        "    for i in encoded:\n",
        "        temp = chr(i)\n",
        "        #print(temp)\n",
        "        final.append(temp)\n",
        "    \n",
        "    \n",
        "    #######################################\n",
        "    return final \n",
        "\n",
        "output = decode(encoded)\n",
        "print(' '.join(output))"
      ]
    },
    {
      "cell_type": "code",
      "execution_count": 143,
      "metadata": {},
      "outputs": [
        {
          "data": {
            "text/plain": [
              "b'A'"
            ]
          },
          "execution_count": 143,
          "metadata": {},
          "output_type": "execute_result"
        }
      ],
      "source": [
        "\"A\".encode()"
      ]
    },
    {
      "cell_type": "code",
      "execution_count": 159,
      "metadata": {
        "id": "60b8ph-cobMN"
      },
      "outputs": [
        {
          "data": {
            "text/plain": [
              "[b'A',\n",
              " b'r',\n",
              " b'e',\n",
              " b' ',\n",
              " b'y',\n",
              " b'o',\n",
              " b'u',\n",
              " b' ',\n",
              " b'p',\n",
              " b'l',\n",
              " b'a',\n",
              " b'n',\n",
              " b'n',\n",
              " b'i',\n",
              " b'n',\n",
              " b'g',\n",
              " b' ',\n",
              " b't',\n",
              " b'o',\n",
              " b' ',\n",
              " b't',\n",
              " b'r',\n",
              " b'a',\n",
              " b'v',\n",
              " b'e',\n",
              " b'l',\n",
              " b' ',\n",
              " b't',\n",
              " b'h',\n",
              " b'i',\n",
              " b's',\n",
              " b' ',\n",
              " b's',\n",
              " b'u',\n",
              " b'm',\n",
              " b'm',\n",
              " b'e',\n",
              " b'r',\n",
              " b'?']"
            ]
          },
          "execution_count": 159,
          "metadata": {},
          "output_type": "execute_result"
        }
      ],
      "source": [
        "sentence = 'Are you planning to travel this summer?'\n",
        "\n",
        "def encode(sentence): # defining a function called \"encode\"\n",
        "    final = [] \n",
        "    ####### your code here ###############\n",
        "    #Q3 ANSWER \n",
        "    for i in sentence:\n",
        "        temp = i.encode()\n",
        "        final.append(temp)\n",
        "    #######################################\n",
        "    return final \n",
        "\n",
        "encode(sentence)\n",
        "#output = encode(sentence)"
      ]
    },
    {
      "attachments": {},
      "cell_type": "markdown",
      "metadata": {
        "id": "3VoKWg_dqVGg"
      },
      "source": [
        "# Important Package - Pandas "
      ]
    },
    {
      "cell_type": "code",
      "execution_count": null,
      "metadata": {
        "id": "mfrw1u_UuKfY"
      },
      "outputs": [],
      "source": [
        "!pip install pandas "
      ]
    },
    {
      "cell_type": "code",
      "execution_count": null,
      "metadata": {
        "id": "2Io9pDS6qR09"
      },
      "outputs": [],
      "source": [
        "import pandas as pd\n",
        "\n",
        "# Create a DataFrame\n",
        "data = {\n",
        "    'Name': ['John', 'Emily', 'Ryan', 'Linda', 'Michael'],\n",
        "    'Age': [25, 30, 35, 28, 32],\n",
        "    'City': ['New York', 'Chicago', 'San Francisco', 'Los Angeles', 'Boston']\n",
        "}\n",
        "\n",
        "df = pd.DataFrame(data)\n",
        "\n",
        "# Display the DataFrame\n",
        "print(\"Original DataFrame:\")\n",
        "print(df)\n",
        "print()\n"
      ]
    },
    {
      "cell_type": "code",
      "execution_count": null,
      "metadata": {
        "id": "ueiu7OBjroqC"
      },
      "outputs": [],
      "source": [
        "# Accessing data\n",
        "print(\"Accessing data:\")\n",
        "print(\"Name column:\")\n",
        "print(df['Name'])\n",
        "print()\n",
        "\n",
        "print(\"First row:\")\n",
        "print(df.loc[0])\n",
        "print()\n"
      ]
    },
    {
      "cell_type": "code",
      "execution_count": null,
      "metadata": {
        "id": "jz2ZSc_Ur0Fz"
      },
      "outputs": [],
      "source": [
        "# Filtering data\n",
        "print(\"Filtering data:\")\n",
        "filtered_df = df[df['Age'] > 30]\n",
        "print(\"People above 30 years old:\")\n",
        "print(filtered_df)\n",
        "print()\n",
        "\n",
        "# Adding a new column\n",
        "df['Salary'] = [50000, 60000, 70000, 55000, 65000]\n",
        "print(\"DataFrame with a new column:\")\n",
        "print(df)\n",
        "print()\n"
      ]
    },
    {
      "cell_type": "code",
      "execution_count": null,
      "metadata": {
        "id": "gchbKtPUr15Y"
      },
      "outputs": [],
      "source": [
        "# Aggregating data\n",
        "print(\"Aggregating data:\")\n",
        "average_age = df['Age'].mean()\n",
        "print(\"Average age:\", average_age)\n",
        "print()\n",
        "\n",
        "# Sorting data\n",
        "print(\"Sorting data:\")\n",
        "sorted_df = df.sort_values(by='Age', ascending=False)\n",
        "print(\"Sorted DataFrame:\")\n",
        "print(sorted_df)\n",
        "print()\n",
        "\n",
        "# Writing to CSV file\n",
        "csv_file = 'data.csv'\n",
        "df.to_csv(csv_file, index=False)\n",
        "print(\"DataFrame saved to\", csv_file)"
      ]
    },
    {
      "attachments": {},
      "cell_type": "markdown",
      "metadata": {
        "id": "ziCiNtGGr5wm"
      },
      "source": [
        "## 3.1. Other key funtions in pandas"
      ]
    },
    {
      "cell_type": "code",
      "execution_count": null,
      "metadata": {
        "id": "_Yv-Z4GBuDlH"
      },
      "outputs": [],
      "source": [
        "import ipywidgets as widgets \n",
        "from ipywidgets import interact, interact_manual\n",
        "from IPython.core.interactiveshell import InteractiveShell\n",
        "InteractiveShell.ast_node_interactivity = \"all\""
      ]
    },
    {
      "attachments": {},
      "cell_type": "markdown",
      "metadata": {
        "id": "T-6S8yFmsa9G"
      },
      "source": [
        "### Importing and Existing Dataset\n",
        "> Collaborative problem solving (CPS) Data (Polyak et al., 2017).\\\n",
        "> *“a sample of middle school children who interacted with a game-like, online simulation of collaborative problem-solving tasks.”*\n",
        "\n",
        "---\n",
        "#### Collaborative Problem Solving Variables\n",
        "\n",
        "| Variable            | \n",
        "|-----------------------------|\n",
        "| Feture Identification (FI)                 | \n",
        "| Maintaining a Shared Understanding (MU)                     | \n",
        "| Engagement/Interaction (EN)           | \n",
        "| Strategy (S) | \n",
        "| Evaluate (EV)             | \n",
        "\n"
      ]
    },
    {
      "cell_type": "code",
      "execution_count": null,
      "metadata": {
        "colab": {
          "base_uri": "https://localhost:8080/",
          "height": 297
        },
        "id": "-KtlVvG1sbgk",
        "outputId": "dc5f6203-cfb2-41f1-ead6-ab2360aced2b"
      },
      "outputs": [
        {
          "data": {
            "text/html": [
              "\n",
              "  <div id=\"df-56d08b41-2a36-4467-ae10-e47cd9a7714e\">\n",
              "    <div class=\"colab-df-container\">\n",
              "      <div>\n",
              "<style scoped>\n",
              "    .dataframe tbody tr th:only-of-type {\n",
              "        vertical-align: middle;\n",
              "    }\n",
              "\n",
              "    .dataframe tbody tr th {\n",
              "        vertical-align: top;\n",
              "    }\n",
              "\n",
              "    .dataframe thead th {\n",
              "        text-align: right;\n",
              "    }\n",
              "</style>\n",
              "<table border=\"1\" class=\"dataframe\">\n",
              "  <thead>\n",
              "    <tr style=\"text-align: right;\">\n",
              "      <th></th>\n",
              "      <th>FI</th>\n",
              "      <th>MU</th>\n",
              "      <th>EN</th>\n",
              "      <th>S</th>\n",
              "      <th>EV</th>\n",
              "    </tr>\n",
              "  </thead>\n",
              "  <tbody>\n",
              "    <tr>\n",
              "      <th>count</th>\n",
              "      <td>159.000000</td>\n",
              "      <td>159.000000</td>\n",
              "      <td>159.000000</td>\n",
              "      <td>159.000000</td>\n",
              "      <td>159.000000</td>\n",
              "    </tr>\n",
              "    <tr>\n",
              "      <th>mean</th>\n",
              "      <td>25.320755</td>\n",
              "      <td>17.276730</td>\n",
              "      <td>32.635220</td>\n",
              "      <td>3.207547</td>\n",
              "      <td>3.000000</td>\n",
              "    </tr>\n",
              "    <tr>\n",
              "      <th>std</th>\n",
              "      <td>18.491298</td>\n",
              "      <td>10.524782</td>\n",
              "      <td>21.486358</td>\n",
              "      <td>2.128991</td>\n",
              "      <td>3.603795</td>\n",
              "    </tr>\n",
              "    <tr>\n",
              "      <th>min</th>\n",
              "      <td>0.000000</td>\n",
              "      <td>0.000000</td>\n",
              "      <td>0.000000</td>\n",
              "      <td>0.000000</td>\n",
              "      <td>0.000000</td>\n",
              "    </tr>\n",
              "    <tr>\n",
              "      <th>25%</th>\n",
              "      <td>6.000000</td>\n",
              "      <td>9.000000</td>\n",
              "      <td>14.500000</td>\n",
              "      <td>2.000000</td>\n",
              "      <td>0.000000</td>\n",
              "    </tr>\n",
              "    <tr>\n",
              "      <th>50%</th>\n",
              "      <td>28.000000</td>\n",
              "      <td>17.000000</td>\n",
              "      <td>31.000000</td>\n",
              "      <td>3.000000</td>\n",
              "      <td>2.000000</td>\n",
              "    </tr>\n",
              "    <tr>\n",
              "      <th>75%</th>\n",
              "      <td>42.000000</td>\n",
              "      <td>24.000000</td>\n",
              "      <td>50.000000</td>\n",
              "      <td>5.000000</td>\n",
              "      <td>4.500000</td>\n",
              "    </tr>\n",
              "    <tr>\n",
              "      <th>max</th>\n",
              "      <td>60.000000</td>\n",
              "      <td>43.000000</td>\n",
              "      <td>79.000000</td>\n",
              "      <td>9.000000</td>\n",
              "      <td>15.000000</td>\n",
              "    </tr>\n",
              "  </tbody>\n",
              "</table>\n",
              "</div>\n",
              "      <button class=\"colab-df-convert\" onclick=\"convertToInteractive('df-56d08b41-2a36-4467-ae10-e47cd9a7714e')\"\n",
              "              title=\"Convert this dataframe to an interactive table.\"\n",
              "              style=\"display:none;\">\n",
              "        \n",
              "  <svg xmlns=\"http://www.w3.org/2000/svg\" height=\"24px\"viewBox=\"0 0 24 24\"\n",
              "       width=\"24px\">\n",
              "    <path d=\"M0 0h24v24H0V0z\" fill=\"none\"/>\n",
              "    <path d=\"M18.56 5.44l.94 2.06.94-2.06 2.06-.94-2.06-.94-.94-2.06-.94 2.06-2.06.94zm-11 1L8.5 8.5l.94-2.06 2.06-.94-2.06-.94L8.5 2.5l-.94 2.06-2.06.94zm10 10l.94 2.06.94-2.06 2.06-.94-2.06-.94-.94-2.06-.94 2.06-2.06.94z\"/><path d=\"M17.41 7.96l-1.37-1.37c-.4-.4-.92-.59-1.43-.59-.52 0-1.04.2-1.43.59L10.3 9.45l-7.72 7.72c-.78.78-.78 2.05 0 2.83L4 21.41c.39.39.9.59 1.41.59.51 0 1.02-.2 1.41-.59l7.78-7.78 2.81-2.81c.8-.78.8-2.07 0-2.86zM5.41 20L4 18.59l7.72-7.72 1.47 1.35L5.41 20z\"/>\n",
              "  </svg>\n",
              "      </button>\n",
              "      \n",
              "  <style>\n",
              "    .colab-df-container {\n",
              "      display:flex;\n",
              "      flex-wrap:wrap;\n",
              "      gap: 12px;\n",
              "    }\n",
              "\n",
              "    .colab-df-convert {\n",
              "      background-color: #E8F0FE;\n",
              "      border: none;\n",
              "      border-radius: 50%;\n",
              "      cursor: pointer;\n",
              "      display: none;\n",
              "      fill: #1967D2;\n",
              "      height: 32px;\n",
              "      padding: 0 0 0 0;\n",
              "      width: 32px;\n",
              "    }\n",
              "\n",
              "    .colab-df-convert:hover {\n",
              "      background-color: #E2EBFA;\n",
              "      box-shadow: 0px 1px 2px rgba(60, 64, 67, 0.3), 0px 1px 3px 1px rgba(60, 64, 67, 0.15);\n",
              "      fill: #174EA6;\n",
              "    }\n",
              "\n",
              "    [theme=dark] .colab-df-convert {\n",
              "      background-color: #3B4455;\n",
              "      fill: #D2E3FC;\n",
              "    }\n",
              "\n",
              "    [theme=dark] .colab-df-convert:hover {\n",
              "      background-color: #434B5C;\n",
              "      box-shadow: 0px 1px 3px 1px rgba(0, 0, 0, 0.15);\n",
              "      filter: drop-shadow(0px 1px 2px rgba(0, 0, 0, 0.3));\n",
              "      fill: #FFFFFF;\n",
              "    }\n",
              "  </style>\n",
              "\n",
              "      <script>\n",
              "        const buttonEl =\n",
              "          document.querySelector('#df-56d08b41-2a36-4467-ae10-e47cd9a7714e button.colab-df-convert');\n",
              "        buttonEl.style.display =\n",
              "          google.colab.kernel.accessAllowed ? 'block' : 'none';\n",
              "\n",
              "        async function convertToInteractive(key) {\n",
              "          const element = document.querySelector('#df-56d08b41-2a36-4467-ae10-e47cd9a7714e');\n",
              "          const dataTable =\n",
              "            await google.colab.kernel.invokeFunction('convertToInteractive',\n",
              "                                                     [key], {});\n",
              "          if (!dataTable) return;\n",
              "\n",
              "          const docLinkHtml = 'Like what you see? Visit the ' +\n",
              "            '<a target=\"_blank\" href=https://colab.research.google.com/notebooks/data_table.ipynb>data table notebook</a>'\n",
              "            + ' to learn more about interactive tables.';\n",
              "          element.innerHTML = '';\n",
              "          dataTable['output_type'] = 'display_data';\n",
              "          await google.colab.output.renderOutput(dataTable, element);\n",
              "          const docLink = document.createElement('div');\n",
              "          docLink.innerHTML = docLinkHtml;\n",
              "          element.appendChild(docLink);\n",
              "        }\n",
              "      </script>\n",
              "    </div>\n",
              "  </div>\n",
              "  "
            ],
            "text/plain": [
              "               FI          MU          EN           S          EV\n",
              "count  159.000000  159.000000  159.000000  159.000000  159.000000\n",
              "mean    25.320755   17.276730   32.635220    3.207547    3.000000\n",
              "std     18.491298   10.524782   21.486358    2.128991    3.603795\n",
              "min      0.000000    0.000000    0.000000    0.000000    0.000000\n",
              "25%      6.000000    9.000000   14.500000    2.000000    0.000000\n",
              "50%     28.000000   17.000000   31.000000    3.000000    2.000000\n",
              "75%     42.000000   24.000000   50.000000    5.000000    4.500000\n",
              "max     60.000000   43.000000   79.000000    9.000000   15.000000"
            ]
          },
          "execution_count": 2,
          "metadata": {},
          "output_type": "execute_result"
        }
      ],
      "source": [
        "data_path = \"https://raw.githubusercontent.com/jinnieshinufl/EDF-6938-Computational-Psychometrics/main/2022/week3_data/cps.csv\"\n",
        "data = pd.read_csv(data_path, header=None) #designate the path to the dataset \n",
        "\n",
        "data.columns = ['FI', 'MU', 'EN', 'S', 'EV']\n",
        "data.describe()"
      ]
    },
    {
      "cell_type": "code",
      "execution_count": null,
      "metadata": {
        "id": "2QenlBRttqeI"
      },
      "outputs": [],
      "source": [
        "data.columns # we just used pd.read_excel() in order to upload your dataset "
      ]
    },
    {
      "cell_type": "code",
      "execution_count": null,
      "metadata": {
        "id": "V78qfW7fvZHh"
      },
      "outputs": [],
      "source": [
        "data.index # index number "
      ]
    },
    {
      "attachments": {},
      "cell_type": "markdown",
      "metadata": {
        "id": "16DRT6xMvezJ"
      },
      "source": [
        "> Dimension of the dataframe can be simply checked using ```len()``` or ```.shape()```"
      ]
    },
    {
      "cell_type": "code",
      "execution_count": null,
      "metadata": {
        "id": "-zHL7RsTvfNv"
      },
      "outputs": [],
      "source": [
        "data.shape # without the .()"
      ]
    },
    {
      "attachments": {},
      "cell_type": "markdown",
      "metadata": {
        "id": "jd02JyepvlGJ"
      },
      "source": [
        "### Subselecting or Slicing a dataframe <a class=\"anchor\" id=\"matrix\"></a>\n",
        "\n",
        "> Subselecting and extracting rows based on row numbers ```data.iloc[index]```"
      ]
    },
    {
      "cell_type": "code",
      "execution_count": null,
      "metadata": {
        "colab": {
          "base_uri": "https://localhost:8080/",
          "height": 359
        },
        "id": "F_065V34vkvN",
        "outputId": "524b49da-4d26-4d05-9879-0a7993431142"
      },
      "outputs": [
        {
          "data": {
            "text/html": [
              "\n",
              "  <div id=\"df-88f9805e-49c4-4358-b6a8-d4bef8ff8617\">\n",
              "    <div class=\"colab-df-container\">\n",
              "      <div>\n",
              "<style scoped>\n",
              "    .dataframe tbody tr th:only-of-type {\n",
              "        vertical-align: middle;\n",
              "    }\n",
              "\n",
              "    .dataframe tbody tr th {\n",
              "        vertical-align: top;\n",
              "    }\n",
              "\n",
              "    .dataframe thead th {\n",
              "        text-align: right;\n",
              "    }\n",
              "</style>\n",
              "<table border=\"1\" class=\"dataframe\">\n",
              "  <thead>\n",
              "    <tr style=\"text-align: right;\">\n",
              "      <th></th>\n",
              "      <th>FI</th>\n",
              "      <th>MU</th>\n",
              "      <th>EN</th>\n",
              "      <th>S</th>\n",
              "      <th>EV</th>\n",
              "    </tr>\n",
              "  </thead>\n",
              "  <tbody>\n",
              "    <tr>\n",
              "      <th>0</th>\n",
              "      <td>47</td>\n",
              "      <td>10</td>\n",
              "      <td>26</td>\n",
              "      <td>3</td>\n",
              "      <td>7</td>\n",
              "    </tr>\n",
              "    <tr>\n",
              "      <th>1</th>\n",
              "      <td>39</td>\n",
              "      <td>21</td>\n",
              "      <td>31</td>\n",
              "      <td>4</td>\n",
              "      <td>9</td>\n",
              "    </tr>\n",
              "    <tr>\n",
              "      <th>2</th>\n",
              "      <td>43</td>\n",
              "      <td>31</td>\n",
              "      <td>77</td>\n",
              "      <td>4</td>\n",
              "      <td>3</td>\n",
              "    </tr>\n",
              "    <tr>\n",
              "      <th>3</th>\n",
              "      <td>55</td>\n",
              "      <td>41</td>\n",
              "      <td>67</td>\n",
              "      <td>2</td>\n",
              "      <td>0</td>\n",
              "    </tr>\n",
              "    <tr>\n",
              "      <th>4</th>\n",
              "      <td>2</td>\n",
              "      <td>0</td>\n",
              "      <td>0</td>\n",
              "      <td>0</td>\n",
              "      <td>0</td>\n",
              "    </tr>\n",
              "    <tr>\n",
              "      <th>5</th>\n",
              "      <td>48</td>\n",
              "      <td>32</td>\n",
              "      <td>63</td>\n",
              "      <td>4</td>\n",
              "      <td>11</td>\n",
              "    </tr>\n",
              "    <tr>\n",
              "      <th>6</th>\n",
              "      <td>28</td>\n",
              "      <td>14</td>\n",
              "      <td>30</td>\n",
              "      <td>5</td>\n",
              "      <td>0</td>\n",
              "    </tr>\n",
              "    <tr>\n",
              "      <th>7</th>\n",
              "      <td>44</td>\n",
              "      <td>35</td>\n",
              "      <td>60</td>\n",
              "      <td>7</td>\n",
              "      <td>4</td>\n",
              "    </tr>\n",
              "    <tr>\n",
              "      <th>8</th>\n",
              "      <td>38</td>\n",
              "      <td>17</td>\n",
              "      <td>35</td>\n",
              "      <td>2</td>\n",
              "      <td>0</td>\n",
              "    </tr>\n",
              "    <tr>\n",
              "      <th>9</th>\n",
              "      <td>47</td>\n",
              "      <td>43</td>\n",
              "      <td>73</td>\n",
              "      <td>6</td>\n",
              "      <td>2</td>\n",
              "    </tr>\n",
              "  </tbody>\n",
              "</table>\n",
              "</div>\n",
              "      <button class=\"colab-df-convert\" onclick=\"convertToInteractive('df-88f9805e-49c4-4358-b6a8-d4bef8ff8617')\"\n",
              "              title=\"Convert this dataframe to an interactive table.\"\n",
              "              style=\"display:none;\">\n",
              "        \n",
              "  <svg xmlns=\"http://www.w3.org/2000/svg\" height=\"24px\"viewBox=\"0 0 24 24\"\n",
              "       width=\"24px\">\n",
              "    <path d=\"M0 0h24v24H0V0z\" fill=\"none\"/>\n",
              "    <path d=\"M18.56 5.44l.94 2.06.94-2.06 2.06-.94-2.06-.94-.94-2.06-.94 2.06-2.06.94zm-11 1L8.5 8.5l.94-2.06 2.06-.94-2.06-.94L8.5 2.5l-.94 2.06-2.06.94zm10 10l.94 2.06.94-2.06 2.06-.94-2.06-.94-.94-2.06-.94 2.06-2.06.94z\"/><path d=\"M17.41 7.96l-1.37-1.37c-.4-.4-.92-.59-1.43-.59-.52 0-1.04.2-1.43.59L10.3 9.45l-7.72 7.72c-.78.78-.78 2.05 0 2.83L4 21.41c.39.39.9.59 1.41.59.51 0 1.02-.2 1.41-.59l7.78-7.78 2.81-2.81c.8-.78.8-2.07 0-2.86zM5.41 20L4 18.59l7.72-7.72 1.47 1.35L5.41 20z\"/>\n",
              "  </svg>\n",
              "      </button>\n",
              "      \n",
              "  <style>\n",
              "    .colab-df-container {\n",
              "      display:flex;\n",
              "      flex-wrap:wrap;\n",
              "      gap: 12px;\n",
              "    }\n",
              "\n",
              "    .colab-df-convert {\n",
              "      background-color: #E8F0FE;\n",
              "      border: none;\n",
              "      border-radius: 50%;\n",
              "      cursor: pointer;\n",
              "      display: none;\n",
              "      fill: #1967D2;\n",
              "      height: 32px;\n",
              "      padding: 0 0 0 0;\n",
              "      width: 32px;\n",
              "    }\n",
              "\n",
              "    .colab-df-convert:hover {\n",
              "      background-color: #E2EBFA;\n",
              "      box-shadow: 0px 1px 2px rgba(60, 64, 67, 0.3), 0px 1px 3px 1px rgba(60, 64, 67, 0.15);\n",
              "      fill: #174EA6;\n",
              "    }\n",
              "\n",
              "    [theme=dark] .colab-df-convert {\n",
              "      background-color: #3B4455;\n",
              "      fill: #D2E3FC;\n",
              "    }\n",
              "\n",
              "    [theme=dark] .colab-df-convert:hover {\n",
              "      background-color: #434B5C;\n",
              "      box-shadow: 0px 1px 3px 1px rgba(0, 0, 0, 0.15);\n",
              "      filter: drop-shadow(0px 1px 2px rgba(0, 0, 0, 0.3));\n",
              "      fill: #FFFFFF;\n",
              "    }\n",
              "  </style>\n",
              "\n",
              "      <script>\n",
              "        const buttonEl =\n",
              "          document.querySelector('#df-88f9805e-49c4-4358-b6a8-d4bef8ff8617 button.colab-df-convert');\n",
              "        buttonEl.style.display =\n",
              "          google.colab.kernel.accessAllowed ? 'block' : 'none';\n",
              "\n",
              "        async function convertToInteractive(key) {\n",
              "          const element = document.querySelector('#df-88f9805e-49c4-4358-b6a8-d4bef8ff8617');\n",
              "          const dataTable =\n",
              "            await google.colab.kernel.invokeFunction('convertToInteractive',\n",
              "                                                     [key], {});\n",
              "          if (!dataTable) return;\n",
              "\n",
              "          const docLinkHtml = 'Like what you see? Visit the ' +\n",
              "            '<a target=\"_blank\" href=https://colab.research.google.com/notebooks/data_table.ipynb>data table notebook</a>'\n",
              "            + ' to learn more about interactive tables.';\n",
              "          element.innerHTML = '';\n",
              "          dataTable['output_type'] = 'display_data';\n",
              "          await google.colab.output.renderOutput(dataTable, element);\n",
              "          const docLink = document.createElement('div');\n",
              "          docLink.innerHTML = docLinkHtml;\n",
              "          element.appendChild(docLink);\n",
              "        }\n",
              "      </script>\n",
              "    </div>\n",
              "  </div>\n",
              "  "
            ],
            "text/plain": [
              "   FI  MU  EN  S  EV\n",
              "0  47  10  26  3   7\n",
              "1  39  21  31  4   9\n",
              "2  43  31  77  4   3\n",
              "3  55  41  67  2   0\n",
              "4   2   0   0  0   0\n",
              "5  48  32  63  4  11\n",
              "6  28  14  30  5   0\n",
              "7  44  35  60  7   4\n",
              "8  38  17  35  2   0\n",
              "9  47  43  73  6   2"
            ]
          },
          "execution_count": 9,
          "metadata": {},
          "output_type": "execute_result"
        }
      ],
      "source": [
        "start_row = 0\n",
        "finish_row = 10\n",
        "data.iloc[start_row:finish_row] # Extract row 0 to row 10"
      ]
    },
    {
      "attachments": {},
      "cell_type": "markdown",
      "metadata": {
        "id": "hQwmRdpYvxg7"
      },
      "source": [
        "> subselecting a row using index (i.e. ID) ```data.loc[index]```"
      ]
    },
    {
      "cell_type": "code",
      "execution_count": null,
      "metadata": {
        "id": "HHiPUpCevs3R"
      },
      "outputs": [],
      "source": [
        "row_index = 7\n",
        "df.loc[row_index] # Extract row with the ID 9"
      ]
    },
    {
      "attachments": {},
      "cell_type": "markdown",
      "metadata": {
        "id": "0A88PS01wD5C"
      },
      "source": [
        "### Applying a ```function``` directly to the dataframe\n",
        "> We will create a function using the numpy package that will manipulate the values in a dataframe column.\n",
        "    \n",
        "    > dataframe[column].apply(function)\n",
        "    > dataframe[column].apply(lambda x: function(x))"
      ]
    },
    {
      "attachments": {},
      "cell_type": "markdown",
      "metadata": {
        "id": "3vkd-djVwILr"
      },
      "source": [
        "> First we will create a ```function``` called ```even_score```"
      ]
    },
    {
      "cell_type": "code",
      "execution_count": null,
      "metadata": {
        "colab": {
          "base_uri": "https://localhost:8080/",
          "height": 37
        },
        "id": "BAG7g7i3wDAE",
        "outputId": "f714c6b3-fbbf-4fe5-d965-6dd4136514e8"
      },
      "outputs": [
        {
          "data": {
            "application/vnd.google.colaboratory.intrinsic+json": {
              "type": "string"
            },
            "text/plain": [
              "'Yes'"
            ]
          },
          "execution_count": 10,
          "metadata": {},
          "output_type": "execute_result"
        }
      ],
      "source": [
        "def even_score(integer): \n",
        "  if (integer % 2) == 0:\n",
        "    return 'Yes'\n",
        "  else:\n",
        "    return 'No' #what does this function do? \n",
        "\n",
        "even_score(42)\n"
      ]
    },
    {
      "cell_type": "code",
      "execution_count": null,
      "metadata": {
        "id": "4M8WmEnBxLX4"
      },
      "outputs": [],
      "source": [
        "#Let's apply this function to the column `FI`\n"
      ]
    },
    {
      "attachments": {},
      "cell_type": "markdown",
      "metadata": {
        "id": "LOwzt5C9xYHh"
      },
      "source": [
        "<img src=\"https://i.pinimg.com/736x/2e/aa/7d/2eaa7d5021ca7c3c98bc93b98b9646fe.jpg\" align=\"left\" width=\"70\" height=\"70\" align=\"left\">\n",
        "\n",
        "\n",
        "### Task 1: Define a function and apply it to a dataframe\n",
        "> Q1: Let's define another function (`last_digit`) that outputs the last digit of the of the students' engagment score (`EN`) \\"
      ]
    },
    {
      "cell_type": "code",
      "execution_count": null,
      "metadata": {
        "id": "DqvM_n_mxYiL"
      },
      "outputs": [],
      "source": [
        "################### Your Code Here ############################\n",
        "#Q1 - Part 1 ANSWER \n",
        "def last_digit(input):\n",
        "    \n",
        "    \n",
        "    return \n",
        "###############################################################\n",
        "\n",
        "# Apply your function to the right column \n",
        "\n",
        "################### Your Code Here ############################\n",
        "#Q1 - Part 2 ANSWER \n",
        "\n",
        "\n",
        "###############################################################"
      ]
    },
    {
      "attachments": {},
      "cell_type": "markdown",
      "metadata": {
        "id": "mGEcTl35yLZ5"
      },
      "source": [
        "*Preliminary* Descriptive Analysis with `Pandas`\n",
        "\n",
        "> Basic descriptive statistics using `data.max()`, `data.min()`, `data.mean()`, `data.mode()`\n",
        "\n",
        "> Correlation Analysis using `data.corr()`"
      ]
    },
    {
      "cell_type": "code",
      "execution_count": null,
      "metadata": {
        "colab": {
          "base_uri": "https://localhost:8080/"
        },
        "id": "u31XfP6ayPoC",
        "outputId": "fbbfdf93-8b7c-4d4e-b725-d24ea751dffc"
      },
      "outputs": [
        {
          "name": "stdout",
          "output_type": "stream",
          "text": [
            "FI    60\n",
            "MU    43\n",
            "EN    79\n",
            "S      9\n",
            "EV    15\n",
            "dtype: int64\n"
          ]
        }
      ],
      "source": [
        "print(data.max())"
      ]
    },
    {
      "cell_type": "code",
      "execution_count": null,
      "metadata": {
        "colab": {
          "base_uri": "https://localhost:8080/"
        },
        "id": "ZB5TQstTyfIC",
        "outputId": "10d42642-8152-439b-fefb-519ce8584ab7"
      },
      "outputs": [
        {
          "name": "stdout",
          "output_type": "stream",
          "text": [
            "FI    0\n",
            "MU    0\n",
            "EN    0\n",
            "S     0\n",
            "EV    0\n",
            "dtype: int64\n"
          ]
        }
      ],
      "source": [
        "print(data.min())"
      ]
    },
    {
      "attachments": {},
      "cell_type": "markdown",
      "metadata": {
        "id": "_BtkMCE5y_mX"
      },
      "source": [
        "> `data.describe()` for a short-cut"
      ]
    },
    {
      "cell_type": "code",
      "execution_count": null,
      "metadata": {
        "colab": {
          "base_uri": "https://localhost:8080/",
          "height": 297
        },
        "id": "ZXLEZpgwy-4B",
        "outputId": "9711649f-33c3-4a65-9969-46798cc87bd7"
      },
      "outputs": [
        {
          "data": {
            "text/html": [
              "\n",
              "  <div id=\"df-67d47d8a-b489-49e9-bae3-912a6616d9a1\">\n",
              "    <div class=\"colab-df-container\">\n",
              "      <div>\n",
              "<style scoped>\n",
              "    .dataframe tbody tr th:only-of-type {\n",
              "        vertical-align: middle;\n",
              "    }\n",
              "\n",
              "    .dataframe tbody tr th {\n",
              "        vertical-align: top;\n",
              "    }\n",
              "\n",
              "    .dataframe thead th {\n",
              "        text-align: right;\n",
              "    }\n",
              "</style>\n",
              "<table border=\"1\" class=\"dataframe\">\n",
              "  <thead>\n",
              "    <tr style=\"text-align: right;\">\n",
              "      <th></th>\n",
              "      <th>FI</th>\n",
              "      <th>MU</th>\n",
              "      <th>EN</th>\n",
              "      <th>S</th>\n",
              "      <th>EV</th>\n",
              "    </tr>\n",
              "  </thead>\n",
              "  <tbody>\n",
              "    <tr>\n",
              "      <th>count</th>\n",
              "      <td>159.000000</td>\n",
              "      <td>159.000000</td>\n",
              "      <td>159.000000</td>\n",
              "      <td>159.000000</td>\n",
              "      <td>159.000000</td>\n",
              "    </tr>\n",
              "    <tr>\n",
              "      <th>mean</th>\n",
              "      <td>25.320755</td>\n",
              "      <td>17.276730</td>\n",
              "      <td>32.635220</td>\n",
              "      <td>3.207547</td>\n",
              "      <td>3.000000</td>\n",
              "    </tr>\n",
              "    <tr>\n",
              "      <th>std</th>\n",
              "      <td>18.491298</td>\n",
              "      <td>10.524782</td>\n",
              "      <td>21.486358</td>\n",
              "      <td>2.128991</td>\n",
              "      <td>3.603795</td>\n",
              "    </tr>\n",
              "    <tr>\n",
              "      <th>min</th>\n",
              "      <td>0.000000</td>\n",
              "      <td>0.000000</td>\n",
              "      <td>0.000000</td>\n",
              "      <td>0.000000</td>\n",
              "      <td>0.000000</td>\n",
              "    </tr>\n",
              "    <tr>\n",
              "      <th>25%</th>\n",
              "      <td>6.000000</td>\n",
              "      <td>9.000000</td>\n",
              "      <td>14.500000</td>\n",
              "      <td>2.000000</td>\n",
              "      <td>0.000000</td>\n",
              "    </tr>\n",
              "    <tr>\n",
              "      <th>50%</th>\n",
              "      <td>28.000000</td>\n",
              "      <td>17.000000</td>\n",
              "      <td>31.000000</td>\n",
              "      <td>3.000000</td>\n",
              "      <td>2.000000</td>\n",
              "    </tr>\n",
              "    <tr>\n",
              "      <th>75%</th>\n",
              "      <td>42.000000</td>\n",
              "      <td>24.000000</td>\n",
              "      <td>50.000000</td>\n",
              "      <td>5.000000</td>\n",
              "      <td>4.500000</td>\n",
              "    </tr>\n",
              "    <tr>\n",
              "      <th>max</th>\n",
              "      <td>60.000000</td>\n",
              "      <td>43.000000</td>\n",
              "      <td>79.000000</td>\n",
              "      <td>9.000000</td>\n",
              "      <td>15.000000</td>\n",
              "    </tr>\n",
              "  </tbody>\n",
              "</table>\n",
              "</div>\n",
              "      <button class=\"colab-df-convert\" onclick=\"convertToInteractive('df-67d47d8a-b489-49e9-bae3-912a6616d9a1')\"\n",
              "              title=\"Convert this dataframe to an interactive table.\"\n",
              "              style=\"display:none;\">\n",
              "        \n",
              "  <svg xmlns=\"http://www.w3.org/2000/svg\" height=\"24px\"viewBox=\"0 0 24 24\"\n",
              "       width=\"24px\">\n",
              "    <path d=\"M0 0h24v24H0V0z\" fill=\"none\"/>\n",
              "    <path d=\"M18.56 5.44l.94 2.06.94-2.06 2.06-.94-2.06-.94-.94-2.06-.94 2.06-2.06.94zm-11 1L8.5 8.5l.94-2.06 2.06-.94-2.06-.94L8.5 2.5l-.94 2.06-2.06.94zm10 10l.94 2.06.94-2.06 2.06-.94-2.06-.94-.94-2.06-.94 2.06-2.06.94z\"/><path d=\"M17.41 7.96l-1.37-1.37c-.4-.4-.92-.59-1.43-.59-.52 0-1.04.2-1.43.59L10.3 9.45l-7.72 7.72c-.78.78-.78 2.05 0 2.83L4 21.41c.39.39.9.59 1.41.59.51 0 1.02-.2 1.41-.59l7.78-7.78 2.81-2.81c.8-.78.8-2.07 0-2.86zM5.41 20L4 18.59l7.72-7.72 1.47 1.35L5.41 20z\"/>\n",
              "  </svg>\n",
              "      </button>\n",
              "      \n",
              "  <style>\n",
              "    .colab-df-container {\n",
              "      display:flex;\n",
              "      flex-wrap:wrap;\n",
              "      gap: 12px;\n",
              "    }\n",
              "\n",
              "    .colab-df-convert {\n",
              "      background-color: #E8F0FE;\n",
              "      border: none;\n",
              "      border-radius: 50%;\n",
              "      cursor: pointer;\n",
              "      display: none;\n",
              "      fill: #1967D2;\n",
              "      height: 32px;\n",
              "      padding: 0 0 0 0;\n",
              "      width: 32px;\n",
              "    }\n",
              "\n",
              "    .colab-df-convert:hover {\n",
              "      background-color: #E2EBFA;\n",
              "      box-shadow: 0px 1px 2px rgba(60, 64, 67, 0.3), 0px 1px 3px 1px rgba(60, 64, 67, 0.15);\n",
              "      fill: #174EA6;\n",
              "    }\n",
              "\n",
              "    [theme=dark] .colab-df-convert {\n",
              "      background-color: #3B4455;\n",
              "      fill: #D2E3FC;\n",
              "    }\n",
              "\n",
              "    [theme=dark] .colab-df-convert:hover {\n",
              "      background-color: #434B5C;\n",
              "      box-shadow: 0px 1px 3px 1px rgba(0, 0, 0, 0.15);\n",
              "      filter: drop-shadow(0px 1px 2px rgba(0, 0, 0, 0.3));\n",
              "      fill: #FFFFFF;\n",
              "    }\n",
              "  </style>\n",
              "\n",
              "      <script>\n",
              "        const buttonEl =\n",
              "          document.querySelector('#df-67d47d8a-b489-49e9-bae3-912a6616d9a1 button.colab-df-convert');\n",
              "        buttonEl.style.display =\n",
              "          google.colab.kernel.accessAllowed ? 'block' : 'none';\n",
              "\n",
              "        async function convertToInteractive(key) {\n",
              "          const element = document.querySelector('#df-67d47d8a-b489-49e9-bae3-912a6616d9a1');\n",
              "          const dataTable =\n",
              "            await google.colab.kernel.invokeFunction('convertToInteractive',\n",
              "                                                     [key], {});\n",
              "          if (!dataTable) return;\n",
              "\n",
              "          const docLinkHtml = 'Like what you see? Visit the ' +\n",
              "            '<a target=\"_blank\" href=https://colab.research.google.com/notebooks/data_table.ipynb>data table notebook</a>'\n",
              "            + ' to learn more about interactive tables.';\n",
              "          element.innerHTML = '';\n",
              "          dataTable['output_type'] = 'display_data';\n",
              "          await google.colab.output.renderOutput(dataTable, element);\n",
              "          const docLink = document.createElement('div');\n",
              "          docLink.innerHTML = docLinkHtml;\n",
              "          element.appendChild(docLink);\n",
              "        }\n",
              "      </script>\n",
              "    </div>\n",
              "  </div>\n",
              "  "
            ],
            "text/plain": [
              "               FI          MU          EN           S          EV\n",
              "count  159.000000  159.000000  159.000000  159.000000  159.000000\n",
              "mean    25.320755   17.276730   32.635220    3.207547    3.000000\n",
              "std     18.491298   10.524782   21.486358    2.128991    3.603795\n",
              "min      0.000000    0.000000    0.000000    0.000000    0.000000\n",
              "25%      6.000000    9.000000   14.500000    2.000000    0.000000\n",
              "50%     28.000000   17.000000   31.000000    3.000000    2.000000\n",
              "75%     42.000000   24.000000   50.000000    5.000000    4.500000\n",
              "max     60.000000   43.000000   79.000000    9.000000   15.000000"
            ]
          },
          "execution_count": 20,
          "metadata": {},
          "output_type": "execute_result"
        }
      ],
      "source": [
        "data.describe()"
      ]
    },
    {
      "cell_type": "code",
      "execution_count": null,
      "metadata": {
        "colab": {
          "base_uri": "https://localhost:8080/"
        },
        "id": "2Cm6jeB8yh-u",
        "outputId": "f97f1b21-c4fc-4d57-ef82-9d6e63805c0f"
      },
      "outputs": [
        {
          "data": {
            "text/plain": [
              "0      47\n",
              "1      39\n",
              "2      77\n",
              "3      67\n",
              "4       2\n",
              "       ..\n",
              "154    14\n",
              "155    39\n",
              "156     7\n",
              "157    17\n",
              "158     9\n",
              "Length: 159, dtype: int64"
            ]
          },
          "execution_count": 16,
          "metadata": {},
          "output_type": "execute_result"
        },
        {
          "data": {
            "text/plain": [
              "0      3\n",
              "1      4\n",
              "2      3\n",
              "3      0\n",
              "4      0\n",
              "      ..\n",
              "154    1\n",
              "155    1\n",
              "156    0\n",
              "157    1\n",
              "158    0\n",
              "Length: 159, dtype: int64"
            ]
          },
          "execution_count": 16,
          "metadata": {},
          "output_type": "execute_result"
        }
      ],
      "source": [
        "# What if I want to evaluate the maximum and minimum scores of the student across the different categories?\n",
        "print(data.max(axis=1))\n",
        "\n",
        "# What if I want to evaluate the maximum and minimum scores of the student across the different categories?\n",
        "print(data.min(axis=1))\n"
      ]
    },
    {
      "cell_type": "code",
      "execution_count": null,
      "metadata": {
        "colab": {
          "base_uri": "https://localhost:8080/",
          "height": 204
        },
        "id": "-CQKnJVyyIho",
        "outputId": "56e6bb6d-f6ea-456d-8de5-d839c10affb3"
      },
      "outputs": [
        {
          "data": {
            "text/html": [
              "\n",
              "  <div id=\"df-97532047-270a-47b8-a5da-ed349ad233c1\">\n",
              "    <div class=\"colab-df-container\">\n",
              "      <div>\n",
              "<style scoped>\n",
              "    .dataframe tbody tr th:only-of-type {\n",
              "        vertical-align: middle;\n",
              "    }\n",
              "\n",
              "    .dataframe tbody tr th {\n",
              "        vertical-align: top;\n",
              "    }\n",
              "\n",
              "    .dataframe thead th {\n",
              "        text-align: right;\n",
              "    }\n",
              "</style>\n",
              "<table border=\"1\" class=\"dataframe\">\n",
              "  <thead>\n",
              "    <tr style=\"text-align: right;\">\n",
              "      <th></th>\n",
              "      <th>FI</th>\n",
              "      <th>MU</th>\n",
              "      <th>EN</th>\n",
              "      <th>S</th>\n",
              "      <th>EV</th>\n",
              "    </tr>\n",
              "  </thead>\n",
              "  <tbody>\n",
              "    <tr>\n",
              "      <th>FI</th>\n",
              "      <td>1.000000</td>\n",
              "      <td>0.784238</td>\n",
              "      <td>0.881299</td>\n",
              "      <td>0.586712</td>\n",
              "      <td>0.576221</td>\n",
              "    </tr>\n",
              "    <tr>\n",
              "      <th>MU</th>\n",
              "      <td>0.784238</td>\n",
              "      <td>1.000000</td>\n",
              "      <td>0.900477</td>\n",
              "      <td>0.635214</td>\n",
              "      <td>0.539647</td>\n",
              "    </tr>\n",
              "    <tr>\n",
              "      <th>EN</th>\n",
              "      <td>0.881299</td>\n",
              "      <td>0.900477</td>\n",
              "      <td>1.000000</td>\n",
              "      <td>0.657209</td>\n",
              "      <td>0.546822</td>\n",
              "    </tr>\n",
              "    <tr>\n",
              "      <th>S</th>\n",
              "      <td>0.586712</td>\n",
              "      <td>0.635214</td>\n",
              "      <td>0.657209</td>\n",
              "      <td>1.000000</td>\n",
              "      <td>0.611262</td>\n",
              "    </tr>\n",
              "    <tr>\n",
              "      <th>EV</th>\n",
              "      <td>0.576221</td>\n",
              "      <td>0.539647</td>\n",
              "      <td>0.546822</td>\n",
              "      <td>0.611262</td>\n",
              "      <td>1.000000</td>\n",
              "    </tr>\n",
              "  </tbody>\n",
              "</table>\n",
              "</div>\n",
              "      <button class=\"colab-df-convert\" onclick=\"convertToInteractive('df-97532047-270a-47b8-a5da-ed349ad233c1')\"\n",
              "              title=\"Convert this dataframe to an interactive table.\"\n",
              "              style=\"display:none;\">\n",
              "        \n",
              "  <svg xmlns=\"http://www.w3.org/2000/svg\" height=\"24px\"viewBox=\"0 0 24 24\"\n",
              "       width=\"24px\">\n",
              "    <path d=\"M0 0h24v24H0V0z\" fill=\"none\"/>\n",
              "    <path d=\"M18.56 5.44l.94 2.06.94-2.06 2.06-.94-2.06-.94-.94-2.06-.94 2.06-2.06.94zm-11 1L8.5 8.5l.94-2.06 2.06-.94-2.06-.94L8.5 2.5l-.94 2.06-2.06.94zm10 10l.94 2.06.94-2.06 2.06-.94-2.06-.94-.94-2.06-.94 2.06-2.06.94z\"/><path d=\"M17.41 7.96l-1.37-1.37c-.4-.4-.92-.59-1.43-.59-.52 0-1.04.2-1.43.59L10.3 9.45l-7.72 7.72c-.78.78-.78 2.05 0 2.83L4 21.41c.39.39.9.59 1.41.59.51 0 1.02-.2 1.41-.59l7.78-7.78 2.81-2.81c.8-.78.8-2.07 0-2.86zM5.41 20L4 18.59l7.72-7.72 1.47 1.35L5.41 20z\"/>\n",
              "  </svg>\n",
              "      </button>\n",
              "      \n",
              "  <style>\n",
              "    .colab-df-container {\n",
              "      display:flex;\n",
              "      flex-wrap:wrap;\n",
              "      gap: 12px;\n",
              "    }\n",
              "\n",
              "    .colab-df-convert {\n",
              "      background-color: #E8F0FE;\n",
              "      border: none;\n",
              "      border-radius: 50%;\n",
              "      cursor: pointer;\n",
              "      display: none;\n",
              "      fill: #1967D2;\n",
              "      height: 32px;\n",
              "      padding: 0 0 0 0;\n",
              "      width: 32px;\n",
              "    }\n",
              "\n",
              "    .colab-df-convert:hover {\n",
              "      background-color: #E2EBFA;\n",
              "      box-shadow: 0px 1px 2px rgba(60, 64, 67, 0.3), 0px 1px 3px 1px rgba(60, 64, 67, 0.15);\n",
              "      fill: #174EA6;\n",
              "    }\n",
              "\n",
              "    [theme=dark] .colab-df-convert {\n",
              "      background-color: #3B4455;\n",
              "      fill: #D2E3FC;\n",
              "    }\n",
              "\n",
              "    [theme=dark] .colab-df-convert:hover {\n",
              "      background-color: #434B5C;\n",
              "      box-shadow: 0px 1px 3px 1px rgba(0, 0, 0, 0.15);\n",
              "      filter: drop-shadow(0px 1px 2px rgba(0, 0, 0, 0.3));\n",
              "      fill: #FFFFFF;\n",
              "    }\n",
              "  </style>\n",
              "\n",
              "      <script>\n",
              "        const buttonEl =\n",
              "          document.querySelector('#df-97532047-270a-47b8-a5da-ed349ad233c1 button.colab-df-convert');\n",
              "        buttonEl.style.display =\n",
              "          google.colab.kernel.accessAllowed ? 'block' : 'none';\n",
              "\n",
              "        async function convertToInteractive(key) {\n",
              "          const element = document.querySelector('#df-97532047-270a-47b8-a5da-ed349ad233c1');\n",
              "          const dataTable =\n",
              "            await google.colab.kernel.invokeFunction('convertToInteractive',\n",
              "                                                     [key], {});\n",
              "          if (!dataTable) return;\n",
              "\n",
              "          const docLinkHtml = 'Like what you see? Visit the ' +\n",
              "            '<a target=\"_blank\" href=https://colab.research.google.com/notebooks/data_table.ipynb>data table notebook</a>'\n",
              "            + ' to learn more about interactive tables.';\n",
              "          element.innerHTML = '';\n",
              "          dataTable['output_type'] = 'display_data';\n",
              "          await google.colab.output.renderOutput(dataTable, element);\n",
              "          const docLink = document.createElement('div');\n",
              "          docLink.innerHTML = docLinkHtml;\n",
              "          element.appendChild(docLink);\n",
              "        }\n",
              "      </script>\n",
              "    </div>\n",
              "  </div>\n",
              "  "
            ],
            "text/plain": [
              "          FI        MU        EN         S        EV\n",
              "FI  1.000000  0.784238  0.881299  0.586712  0.576221\n",
              "MU  0.784238  1.000000  0.900477  0.635214  0.539647\n",
              "EN  0.881299  0.900477  1.000000  0.657209  0.546822\n",
              "S   0.586712  0.635214  0.657209  1.000000  0.611262\n",
              "EV  0.576221  0.539647  0.546822  0.611262  1.000000"
            ]
          },
          "execution_count": 12,
          "metadata": {},
          "output_type": "execute_result"
        }
      ],
      "source": [
        "data.corr()"
      ]
    }
  ],
  "metadata": {
    "colab": {
      "name": "week 1-intro to python - PART 1",
      "provenance": [],
      "toc_visible": true
    },
    "kernelspec": {
      "display_name": "Python 3 (ipykernel)",
      "language": "python",
      "name": "python3"
    },
    "language_info": {
      "codemirror_mode": {
        "name": "ipython",
        "version": 3
      },
      "file_extension": ".py",
      "mimetype": "text/x-python",
      "name": "python",
      "nbconvert_exporter": "python",
      "pygments_lexer": "ipython3",
      "version": "3.11.3"
    }
  },
  "nbformat": 4,
  "nbformat_minor": 0
}
