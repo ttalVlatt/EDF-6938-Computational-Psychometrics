{
  "cells": [
    {
      "attachments": {},
      "cell_type": "markdown",
      "id": "530144c4",
      "metadata": {
        "id": "530144c4"
      },
      "source": [
        "<h1><center>  Lab 2 : ML Overview: Supervised Learning algorithms </center>\n",
        "    \n",
        "<img src=\"https://i.pinimg.com/736x/02/66/bd/0266bd22348df67f4cf04ab83bf38e5a.jpg\" width=\"600\">\n"
      ]
    },
    {
      "attachments": {},
      "cell_type": "markdown",
      "id": "c3c7066e",
      "metadata": {
        "id": "c3c7066e"
      },
      "source": [
        "```Created by Jinnie Shin (jinnie.shin@coe.ufl.edu)```\\\n",
        "```Date: May 25th 2023```\n",
        "\n",
        "```Image source: https://i.pinimg.com/736x/02/66/bd/0266bd22348df67f4cf04ab83bf38e5a.jpg```\n",
        "\n",
        "<img src=\"https://encrypted-tbn0.gstatic.com/images?q=tbn:ANd9GcQmNf86oJnfhpkPA9LnrFnAbfwF2VywPYpB_w&usqp=CAU\" align=\"left\" width=\"70\" height=\"70\" align=\"left\"> \n",
        "\n",
        " ### Required Packages or Dependencies\n",
        " We learned how to download packages in python in our last lecture -- e.g., pip install `numpy`"
      ]
    },
    {
      "cell_type": "code",
      "execution_count": 11,
      "id": "02eac3c7",
      "metadata": {
        "id": "02eac3c7"
      },
      "outputs": [],
      "source": [
        "#!pip install { } ! in case you run into the `package not avaialble` error\n",
        "import pandas as pd \n",
        "import numpy as np \n",
        "#import matplotlib.pyplot as plt ### ----- pip install matplotlib"
      ]
    },
    {
      "attachments": {},
      "cell_type": "markdown",
      "id": "7e8867d2",
      "metadata": {
        "id": "7e8867d2"
      },
      "source": [
        "## Data\n",
        "\n",
        "The data consisted of the labeled chats from an online collaborative problem-solving study (Hao et al., 2015). Each turn of the chats has been coded into **one of the four categories** of collaborative problem-solving skills (Link: https://repository.isls.org/bitstream/1/462/1/297.pdf)\n",
        "- *Macro level evience* - infer: Collaborative problem-solving skills\n",
        "\n",
        "#### Goal\n",
        "- To create an automated classifier using machine learning methods to label the chats automatically\n",
        "\n"
      ]
    },
    {
      "cell_type": "code",
      "execution_count": 12,
      "id": "13a38ab7",
      "metadata": {
        "id": "13a38ab7"
      },
      "outputs": [],
      "source": [
        "# Can add read_csv().values to end to get a array of as csv\n",
        "\n",
        "X=pd.read_csv('https://raw.githubusercontent.com/jinnieshinufl/EDF-6938-Computational-Psychometrics/main/2022/week3_data/chat_bigram_feature.csv.gz',compression='gzip')\n",
        "y=pd.read_csv('https://raw.githubusercontent.com/jinnieshinufl/EDF-6938-Computational-Psychometrics/main/2022/week3_data/chat_label.csv')"
      ]
    },
    {
      "cell_type": "code",
      "execution_count": 3,
      "id": "9abed1f3",
      "metadata": {
        "colab": {
          "base_uri": "https://localhost:8080/"
        },
        "id": "9abed1f3",
        "outputId": "c87573ea-6569-41c5-8fc3-7e3638ffbc32"
      },
      "outputs": [
        {
          "data": {
            "text/plain": [
              "(11113, 3222)"
            ]
          },
          "execution_count": 3,
          "metadata": {},
          "output_type": "execute_result"
        }
      ],
      "source": [
        "X\n",
        "\n",
        "# inspect the dimension of the data \n",
        "###### Your code here ########\n",
        "\n",
        "# What are our dimensions\n",
        "X.shape"
      ]
    },
    {
      "attachments": {},
      "cell_type": "markdown",
      "id": "116c6dd5",
      "metadata": {
        "id": "116c6dd5"
      },
      "source": [
        "- Each turn of the chats is already converted into a numerical vector using a NLP vectorization approach (we will cover this in our NLP class :)) \n",
        "- So now one variable (or feature in CP) represents a uni-gram or a bi-gram token (e.g., \"I\", \"I-HAVE\")"
      ]
    },
    {
      "cell_type": "code",
      "execution_count": 4,
      "id": "9ebf4979",
      "metadata": {
        "colab": {
          "base_uri": "https://localhost:8080/"
        },
        "id": "9ebf4979",
        "outputId": "a2f510ae-1b5c-4502-a37f-d096f7db2425"
      },
      "outputs": [
        {
          "data": {
            "text/html": [
              "<div>\n",
              "<style scoped>\n",
              "    .dataframe tbody tr th:only-of-type {\n",
              "        vertical-align: middle;\n",
              "    }\n",
              "\n",
              "    .dataframe tbody tr th {\n",
              "        vertical-align: top;\n",
              "    }\n",
              "\n",
              "    .dataframe thead th {\n",
              "        text-align: right;\n",
              "    }\n",
              "</style>\n",
              "<table border=\"1\" class=\"dataframe\">\n",
              "  <thead>\n",
              "    <tr style=\"text-align: right;\">\n",
              "      <th></th>\n",
              "      <th>0</th>\n",
              "    </tr>\n",
              "  </thead>\n",
              "  <tbody>\n",
              "    <tr>\n",
              "      <th>0</th>\n",
              "      <td>4</td>\n",
              "    </tr>\n",
              "    <tr>\n",
              "      <th>1</th>\n",
              "      <td>4</td>\n",
              "    </tr>\n",
              "    <tr>\n",
              "      <th>2</th>\n",
              "      <td>4</td>\n",
              "    </tr>\n",
              "    <tr>\n",
              "      <th>3</th>\n",
              "      <td>4</td>\n",
              "    </tr>\n",
              "    <tr>\n",
              "      <th>4</th>\n",
              "      <td>4</td>\n",
              "    </tr>\n",
              "    <tr>\n",
              "      <th>...</th>\n",
              "      <td>...</td>\n",
              "    </tr>\n",
              "    <tr>\n",
              "      <th>11108</th>\n",
              "      <td>3</td>\n",
              "    </tr>\n",
              "    <tr>\n",
              "      <th>11109</th>\n",
              "      <td>4</td>\n",
              "    </tr>\n",
              "    <tr>\n",
              "      <th>11110</th>\n",
              "      <td>3</td>\n",
              "    </tr>\n",
              "    <tr>\n",
              "      <th>11111</th>\n",
              "      <td>3</td>\n",
              "    </tr>\n",
              "    <tr>\n",
              "      <th>11112</th>\n",
              "      <td>4</td>\n",
              "    </tr>\n",
              "  </tbody>\n",
              "</table>\n",
              "<p>11113 rows × 1 columns</p>\n",
              "</div>"
            ],
            "text/plain": [
              "       0\n",
              "0      4\n",
              "1      4\n",
              "2      4\n",
              "3      4\n",
              "4      4\n",
              "...   ..\n",
              "11108  3\n",
              "11109  4\n",
              "11110  3\n",
              "11111  3\n",
              "11112  4\n",
              "\n",
              "[11113 rows x 1 columns]"
            ]
          },
          "execution_count": 4,
          "metadata": {},
          "output_type": "execute_result"
        }
      ],
      "source": [
        "y # Let's take a look at the output data together \n",
        "\n",
        "# inspect the distribution of the output \n",
        "###### Your code here ########\n"
      ]
    },
    {
      "attachments": {},
      "cell_type": "markdown",
      "id": "d47d8cb2",
      "metadata": {
        "id": "d47d8cb2"
      },
      "source": [
        "- Like we explained earlier, the output variable is the hand-coded categorization of one of the four collaborative problem-solving skills"
      ]
    },
    {
      "attachments": {},
      "cell_type": "markdown",
      "id": "677dd035",
      "metadata": {
        "id": "677dd035"
      },
      "source": [
        "<img src=\"https://i.pinimg.com/736x/2e/aa/7d/2eaa7d5021ca7c3c98bc93b98b9646fe.jpg\" align=\"left\" width=\"70\" height=\"70\" align=\"left\">\n",
        "\n",
        " ## Task 1: Training & Testing data \n",
        ">  **Q1.** In order to analyze large dataset efficiently, we will use the package `scikit-learn` to implement regression models. \n",
        ">> **Step 1**: Download the package `!pip install sklearn` \\ Let's try to use our `X` and `y` to investigate whether the chat can sufficiently predict the complexity of the CPS skills. In order to analyze large dataset efficiently, we will use the package `scikit-learn` to implement regression models. \n",
        ">\n",
        ">> **Step 2**: Import models ` from sklearn.linear_model import LinearRegression`\\\n",
        ">> **Step 3**: Call a new module `lr = LinearRegression()` \\\n",
        ">> **Step 4**: Fit the dataset using `lr.fit({input}, {output})` and check the intercept and the coefficients using `lr.intercept_` and `lr.coef_`\\\n",
        ">> **Step 5**: Using the model you fit in Step 3, let's predict the outcome and round it up using `pred = lr.predict(X)`\\\n",
        ">> **Step 6**: Let's evaluate the prediction accuracy. First import `from sklearn.metrics import accuracy_score, r2_score`\n",
        "and going back to your script `r2_score(pred, {output})` `accuracy_score(pred, {output})`\n",
        "\n",
        "> More information about the package is available at: https://scikit-learn.org/stable/modules/linear_model.html#ordinary-least-squares\n",
        "\n",
        "> Q4. Any problems with this evaluation scheme?"
      ]
    },
    {
      "cell_type": "code",
      "execution_count": 7,
      "id": "c63abf23",
      "metadata": {},
      "outputs": [
        {
          "name": "stdout",
          "output_type": "stream",
          "text": [
            "Collecting package metadata (current_repodata.json): done\n",
            "Solving environment: done\n",
            "\n",
            "## Package Plan ##\n",
            "\n",
            "  environment location: /Users/Matt/miniconda3\n",
            "\n",
            "  added / updated specs:\n",
            "    - scikit-learn\n",
            "\n",
            "\n",
            "The following packages will be downloaded:\n",
            "\n",
            "    package                    |            build\n",
            "    ---------------------------|-----------------\n",
            "    appdirs-1.4.4              |     pyhd3eb1b0_0          12 KB\n",
            "    joblib-1.1.1               |  py311hecd8cb5_0         514 KB\n",
            "    pooch-1.4.0                |     pyhd3eb1b0_0          41 KB\n",
            "    scikit-learn-1.2.2         |  py311hcec6c5f_0         8.2 MB\n",
            "    scipy-1.10.1               |  py311h224febf_1        22.6 MB\n",
            "    threadpoolctl-2.2.0        |     pyh0d69192_0          16 KB\n",
            "    ------------------------------------------------------------\n",
            "                                           Total:        31.4 MB\n",
            "\n",
            "The following NEW packages will be INSTALLED:\n",
            "\n",
            "  appdirs            pkgs/main/noarch::appdirs-1.4.4-pyhd3eb1b0_0 \n",
            "  joblib             pkgs/main/osx-64::joblib-1.1.1-py311hecd8cb5_0 \n",
            "  libgfortran        pkgs/main/osx-64::libgfortran-5.0.0-11_3_0_hecd8cb5_28 \n",
            "  libgfortran5       pkgs/main/osx-64::libgfortran5-11.3.0-h9dfd629_28 \n",
            "  llvm-openmp        pkgs/main/osx-64::llvm-openmp-14.0.6-h0dcd299_0 \n",
            "  pooch              pkgs/main/noarch::pooch-1.4.0-pyhd3eb1b0_0 \n",
            "  scikit-learn       pkgs/main/osx-64::scikit-learn-1.2.2-py311hcec6c5f_0 \n",
            "  scipy              pkgs/main/osx-64::scipy-1.10.1-py311h224febf_1 \n",
            "  threadpoolctl      pkgs/main/noarch::threadpoolctl-2.2.0-pyh0d69192_0 \n",
            "\n",
            "\n",
            "\n",
            "Downloading and Extracting Packages\n",
            "threadpoolctl-2.2.0  | 16 KB     |                                       |   0% \n",
            "scipy-1.10.1         | 22.6 MB   |                                       |   0% \u001b[A\n",
            "\n",
            "joblib-1.1.1         | 514 KB    |                                       |   0% \u001b[A\u001b[A\n",
            "\n",
            "\u001b[A\u001b[A\n",
            "\n",
            "\n",
            "\n",
            "scikit-learn-1.2.2   | 8.2 MB    |                                       |   0% \u001b[A\u001b[A\u001b[A\u001b[A\n",
            "\n",
            "\n",
            "\n",
            "\n",
            "pooch-1.4.0          | 41 KB     |                                       |   0% \u001b[A\u001b[A\u001b[A\u001b[A\u001b[A\n",
            "threadpoolctl-2.2.0  | 16 KB     | ####################################2 |  98% \u001b[A\n",
            "\n",
            "\n",
            "appdirs-1.4.4        | 12 KB     | ##################################### | 100% \u001b[A\u001b[A\u001b[A\n",
            "scipy-1.10.1         | 22.6 MB   | 4                                     |   1% \u001b[A\n",
            "\n",
            "\n",
            "\n",
            "\u001b[A\u001b[A\u001b[A\u001b[A\n",
            "\n",
            "joblib-1.1.1         | 514 KB    | #1                                    |   3% \u001b[A\u001b[A\n",
            "\n",
            "\n",
            "\n",
            "scikit-learn-1.2.2   | 8.2 MB    |                                       |   0% \u001b[A\u001b[A\u001b[A\u001b[A\n",
            "scipy-1.10.1         | 22.6 MB   | 6                                     |   2% \u001b[A\n",
            "\n",
            "joblib-1.1.1         | 514 KB    | ##########3                           |  28% \u001b[A\u001b[A\n",
            "\n",
            "\n",
            "\n",
            "scikit-learn-1.2.2   | 8.2 MB    | 4                                     |   1% \u001b[A\u001b[A\u001b[A\u001b[A\n",
            "scipy-1.10.1         | 22.6 MB   | #1                                    |   3% \u001b[A\n",
            "\n",
            "\n",
            "appdirs-1.4.4        | 12 KB     | ##################################### | 100% \u001b[A\u001b[A\u001b[A\n",
            "\n",
            "joblib-1.1.1         | 514 KB    | ###################5                  |  53% \u001b[A\u001b[A\n",
            "\n",
            "\n",
            "\n",
            "scikit-learn-1.2.2   | 8.2 MB    | 8                                     |   2% \u001b[A\u001b[A\u001b[A\u001b[A\n",
            "scipy-1.10.1         | 22.6 MB   | #6                                    |   5% \u001b[A\n",
            "\n",
            "joblib-1.1.1         | 514 KB    | ##########################5           |  72% \u001b[A\u001b[A\n",
            "\n",
            "\n",
            "\n",
            "scikit-learn-1.2.2   | 8.2 MB    | #4                                    |   4% \u001b[A\u001b[A\u001b[A\u001b[A\n",
            "threadpoolctl-2.2.0  | 16 KB     | ##################################### | 100% \u001b[A\n",
            "\n",
            "\n",
            "\n",
            "scikit-learn-1.2.2   | 8.2 MB    | ##2                                   |   6% \u001b[A\u001b[A\u001b[A\u001b[A\n",
            "scipy-1.10.1         | 22.6 MB   | ##7                                   |   7% \u001b[A\n",
            "\n",
            "\n",
            "\n",
            "scikit-learn-1.2.2   | 8.2 MB    | ###                                   |   8% \u001b[A\u001b[A\u001b[A\u001b[A\n",
            "scipy-1.10.1         | 22.6 MB   | ###3                                  |   9% \u001b[A\n",
            "\n",
            "\n",
            "\n",
            "\n",
            "pooch-1.4.0          | 41 KB     | ##################################### | 100% \u001b[A\u001b[A\u001b[A\u001b[A\u001b[A\n",
            "\n",
            "\n",
            "\n",
            "\n",
            "pooch-1.4.0          | 41 KB     | ##################################### | 100% \u001b[A\u001b[A\u001b[A\u001b[A\u001b[A\n",
            "\n",
            "\n",
            "\n",
            "scikit-learn-1.2.2   | 8.2 MB    | ###6                                  |  10% \u001b[A\u001b[A\u001b[A\u001b[A\n",
            "scipy-1.10.1         | 22.6 MB   | ###9                                  |  11% \u001b[A\n",
            "\n",
            "\n",
            "\n",
            "scikit-learn-1.2.2   | 8.2 MB    | ####3                                 |  12% \u001b[A\u001b[A\u001b[A\u001b[A\n",
            "scipy-1.10.1         | 22.6 MB   | ####6                                 |  12% \u001b[A\n",
            "\n",
            "\n",
            "\n",
            "scikit-learn-1.2.2   | 8.2 MB    | #####                                 |  14% \u001b[A\u001b[A\u001b[A\u001b[A\n",
            "scipy-1.10.1         | 22.6 MB   | #####1                                |  14% \u001b[A\n",
            "\n",
            "\n",
            "\n",
            "scikit-learn-1.2.2   | 8.2 MB    | #####8                                |  16% \u001b[A\u001b[A\u001b[A\u001b[A\n",
            "scipy-1.10.1         | 22.6 MB   | #####9                                |  16% \u001b[A\n",
            "\n",
            "\n",
            "\n",
            "scikit-learn-1.2.2   | 8.2 MB    | ######5                               |  18% \u001b[A\u001b[A\u001b[A\u001b[A\n",
            "scipy-1.10.1         | 22.6 MB   | ######4                               |  18% \u001b[A\n",
            "\n",
            "\n",
            "\n",
            "scikit-learn-1.2.2   | 8.2 MB    | #######3                              |  20% \u001b[A\u001b[A\u001b[A\u001b[A\n",
            "scipy-1.10.1         | 22.6 MB   | #######3                              |  20% \u001b[A\n",
            "\n",
            "\n",
            "\n",
            "scikit-learn-1.2.2   | 8.2 MB    | ########                              |  22% \u001b[A\u001b[A\u001b[A\u001b[A\n",
            "\n",
            "\n",
            "\n",
            "scikit-learn-1.2.2   | 8.2 MB    | ########7                             |  24% \u001b[A\u001b[A\u001b[A\u001b[A\n",
            "scipy-1.10.1         | 22.6 MB   | ########                              |  22% \u001b[A\n",
            "\n",
            "\n",
            "\n",
            "scikit-learn-1.2.2   | 8.2 MB    | #########7                            |  26% \u001b[A\u001b[A\u001b[A\u001b[A\n",
            "scipy-1.10.1         | 22.6 MB   | #########                             |  25% \u001b[A\n",
            "scipy-1.10.1         | 22.6 MB   | #########7                            |  26% \u001b[A\n",
            "\n",
            "\n",
            "\n",
            "scikit-learn-1.2.2   | 8.2 MB    | ##########5                           |  29% \u001b[A\u001b[A\u001b[A\u001b[A\n",
            "scipy-1.10.1         | 22.6 MB   | ##########6                           |  29% \u001b[A\n",
            "\n",
            "\n",
            "\n",
            "scikit-learn-1.2.2   | 8.2 MB    | ###########4                          |  31% \u001b[A\u001b[A\u001b[A\u001b[A\n",
            "scipy-1.10.1         | 22.6 MB   | ###########3                          |  31% \u001b[A\n",
            "\n",
            "\n",
            "\n",
            "scikit-learn-1.2.2   | 8.2 MB    | ############3                         |  33% \u001b[A\u001b[A\u001b[A\u001b[A\n",
            "scipy-1.10.1         | 22.6 MB   | ###########9                          |  32% \u001b[A\n",
            "\n",
            "\n",
            "\n",
            "scikit-learn-1.2.2   | 8.2 MB    | #############1                        |  35% \u001b[A\u001b[A\u001b[A\u001b[A\n",
            "scipy-1.10.1         | 22.6 MB   | ############7                         |  34% \u001b[A\n",
            "\n",
            "\n",
            "\n",
            "scikit-learn-1.2.2   | 8.2 MB    | #############8                        |  37% \u001b[A\u001b[A\u001b[A\u001b[A\n",
            "scipy-1.10.1         | 22.6 MB   | #############5                        |  37% \u001b[A\n",
            "\n",
            "\n",
            "\n",
            "scikit-learn-1.2.2   | 8.2 MB    | ##############6                       |  39% \u001b[A\u001b[A\u001b[A\u001b[A\n",
            "scipy-1.10.1         | 22.6 MB   | ##############1                       |  38% \u001b[A\n",
            "\n",
            "\n",
            "\n",
            "scikit-learn-1.2.2   | 8.2 MB    | ###############3                      |  41% \u001b[A\u001b[A\u001b[A\u001b[A\n",
            "scipy-1.10.1         | 22.6 MB   | ##############9                       |  40% \u001b[A\n",
            "\n",
            "\n",
            "\n",
            "scikit-learn-1.2.2   | 8.2 MB    | ################                      |  43% \u001b[A\u001b[A\u001b[A\u001b[A\n",
            "scipy-1.10.1         | 22.6 MB   | ###############5                      |  42% \u001b[A\n",
            "\n",
            "\n",
            "\n",
            "scikit-learn-1.2.2   | 8.2 MB    | ################8                     |  46% \u001b[A\u001b[A\u001b[A\u001b[A\n",
            "scipy-1.10.1         | 22.6 MB   | ################3                     |  44% \u001b[A\n",
            "\n",
            "\n",
            "\n",
            "scikit-learn-1.2.2   | 8.2 MB    | #################5                    |  48% \u001b[A\u001b[A\u001b[A\u001b[A\n",
            "\n",
            "\n",
            "\n",
            "scikit-learn-1.2.2   | 8.2 MB    | ##################4                   |  50% \u001b[A\u001b[A\u001b[A\u001b[A\n",
            "scipy-1.10.1         | 22.6 MB   | #################2                    |  47% \u001b[A\n",
            "scipy-1.10.1         | 22.6 MB   | ##################                    |  49% \u001b[A\n",
            "\n",
            "\n",
            "\n",
            "scikit-learn-1.2.2   | 8.2 MB    | ###################2                  |  52% \u001b[A\u001b[A\u001b[A\u001b[A\n",
            "\n",
            "\n",
            "\n",
            "scikit-learn-1.2.2   | 8.2 MB    | #####################4                |  58% \u001b[A\u001b[A\u001b[A\u001b[A\n",
            "scipy-1.10.1         | 22.6 MB   | ###################4                  |  52% \u001b[A\n",
            "\n",
            "\n",
            "\n",
            "scikit-learn-1.2.2   | 8.2 MB    | ######################3               |  60% \u001b[A\u001b[A\u001b[A\u001b[A\n",
            "scipy-1.10.1         | 22.6 MB   | ####################1                 |  54% \u001b[A\n",
            "scipy-1.10.1         | 22.6 MB   | #####################2                |  57% \u001b[A\n",
            "\n",
            "\n",
            "\n",
            "scikit-learn-1.2.2   | 8.2 MB    | #######################6              |  64% \u001b[A\u001b[A\u001b[A\u001b[A\n",
            "\n",
            "\n",
            "\n",
            "scikit-learn-1.2.2   | 8.2 MB    | ########################5             |  66% \u001b[A\u001b[A\u001b[A\u001b[A\n",
            "scipy-1.10.1         | 22.6 MB   | ######################                |  60% \u001b[A\n",
            "\n",
            "joblib-1.1.1         | 514 KB    | ##################################### | 100% \u001b[A\u001b[A\n",
            "\n",
            "joblib-1.1.1         | 514 KB    | ##################################### | 100% \u001b[A\u001b[A\n",
            "\n",
            "\n",
            "\n",
            "scikit-learn-1.2.2   | 8.2 MB    | #########################6            |  69% \u001b[A\u001b[A\u001b[A\u001b[A\n",
            "scipy-1.10.1         | 22.6 MB   | ######################8               |  62% \u001b[A\n",
            "\n",
            "\n",
            "\n",
            "scikit-learn-1.2.2   | 8.2 MB    | ##########################5           |  72% \u001b[A\u001b[A\u001b[A\u001b[A\n",
            "scipy-1.10.1         | 22.6 MB   | #######################6              |  64% \u001b[A\n",
            "scipy-1.10.1         | 22.6 MB   | ########################3             |  66% \u001b[A\n",
            "\n",
            "\n",
            "\n",
            "scikit-learn-1.2.2   | 8.2 MB    | ###########################3          |  74% \u001b[A\u001b[A\u001b[A\u001b[A\n",
            "scipy-1.10.1         | 22.6 MB   | #########################2            |  68% \u001b[A\n",
            "\n",
            "\n",
            "\n",
            "scikit-learn-1.2.2   | 8.2 MB    | ############################4         |  77% \u001b[A\u001b[A\u001b[A\u001b[A\n",
            "\n",
            "\n",
            "\n",
            "scikit-learn-1.2.2   | 8.2 MB    | #############################2        |  79% \u001b[A\u001b[A\u001b[A\u001b[A\n",
            "scipy-1.10.1         | 22.6 MB   | #########################9            |  70% \u001b[A\n",
            "\n",
            "\n",
            "\n",
            "scikit-learn-1.2.2   | 8.2 MB    | ##############################        |  81% \u001b[A\u001b[A\u001b[A\u001b[A\n",
            "scipy-1.10.1         | 22.6 MB   | ##########################6           |  72% \u001b[A\n",
            "\n",
            "\n",
            "\n",
            "scikit-learn-1.2.2   | 8.2 MB    | ##############################7       |  83% \u001b[A\u001b[A\u001b[A\u001b[A\n",
            "scipy-1.10.1         | 22.6 MB   | ###########################3          |  74% \u001b[A\n",
            "scipy-1.10.1         | 22.6 MB   | ############################          |  76% \u001b[A\n",
            "\n",
            "\n",
            "\n",
            "scikit-learn-1.2.2   | 8.2 MB    | ###############################9      |  86% \u001b[A\u001b[A\u001b[A\u001b[A\n",
            "scipy-1.10.1         | 22.6 MB   | ############################6         |  77% \u001b[A\n",
            "\n",
            "\n",
            "\n",
            "scikit-learn-1.2.2   | 8.2 MB    | ################################6     |  88% \u001b[A\u001b[A\u001b[A\u001b[A\n",
            "scipy-1.10.1         | 22.6 MB   | #############################3        |  79% \u001b[A\n",
            "\n",
            "\n",
            "\n",
            "scikit-learn-1.2.2   | 8.2 MB    | ##################################3   |  93% \u001b[A\u001b[A\u001b[A\u001b[A\n",
            "scipy-1.10.1         | 22.6 MB   | ##############################2       |  82% \u001b[A\n",
            "\n",
            "\n",
            "\n",
            "scikit-learn-1.2.2   | 8.2 MB    | ###################################3  |  96% \u001b[A\u001b[A\u001b[A\u001b[A\n",
            "scipy-1.10.1         | 22.6 MB   | ##############################8       |  83% \u001b[A\n",
            "\n",
            "\n",
            "\n",
            "scikit-learn-1.2.2   | 8.2 MB    | ####################################3 |  98% \u001b[A\u001b[A\u001b[A\u001b[A\n",
            "scipy-1.10.1         | 22.6 MB   | ###############################4      |  85% \u001b[A\n",
            "scipy-1.10.1         | 22.6 MB   | ################################      |  87% \u001b[A\n",
            "scipy-1.10.1         | 22.6 MB   | #################################1    |  90% \u001b[A\n",
            "scipy-1.10.1         | 22.6 MB   | #################################9    |  92% \u001b[A\n",
            "scipy-1.10.1         | 22.6 MB   | ##################################7   |  94% \u001b[A\n",
            "scipy-1.10.1         | 22.6 MB   | ###################################4  |  96% \u001b[A\n",
            "scipy-1.10.1         | 22.6 MB   | ####################################4 |  99% \u001b[A\n",
            "\n",
            "\n",
            "\n",
            "scikit-learn-1.2.2   | 8.2 MB    | ##################################### | 100% \u001b[A\u001b[A\u001b[A\u001b[A\n",
            "                                                                                \u001b[A\n",
            "                                                                                \u001b[A\n",
            "\n",
            "                                                                                \u001b[A\u001b[A\n",
            "\n",
            "\n",
            "                                                                                \u001b[A\u001b[A\u001b[A\n",
            "\n",
            "\n",
            "\n",
            "                                                                                \u001b[A\u001b[A\u001b[A\u001b[A\n",
            "\n",
            "\n",
            "\n",
            "\n",
            "                                                                                \u001b[A\u001b[A\u001b[A\u001b[A\u001b[A\n",
            "Preparing transaction: done\n",
            "Verifying transaction: done\n",
            "Executing transaction: \\ \n",
            "\n",
            "    Installed package of scikit-learn can be accelerated using scikit-learn-intelex.\n",
            "    More details are available here: https://intel.github.io/scikit-learn-intelex\n",
            "\n",
            "    For example:\n",
            "\n",
            "        $ conda install scikit-learn-intelex\n",
            "        $ python -m sklearnex my_application.py\n",
            "\n",
            "    \n",
            "\n",
            "done\n",
            "\n",
            "Note: you may need to restart the kernel to use updated packages.\n"
          ]
        }
      ],
      "source": [
        "# Install the package\n",
        "# %conda install scikit-learn"
      ]
    },
    {
      "cell_type": "code",
      "execution_count": 13,
      "id": "b7f0c1da",
      "metadata": {
        "colab": {
          "base_uri": "https://localhost:8080/"
        },
        "id": "b7f0c1da",
        "outputId": "962f0ede-1255-4d32-d386-df41f2ae85a4"
      },
      "outputs": [
        {
          "name": "stdout",
          "output_type": "stream",
          "text": [
            "This is the intercept value of my linear regression -------\n",
            "[3.03149593]\n",
            "This is the coefficient value of my linear regression -------\n",
            "[[ 2.46032741  0.12272964  0.95949191 ... -0.3042998  -0.73509392\n",
            "  -0.35687685]]\n"
          ]
        },
        {
          "data": {
            "text/plain": [
              "0.6403733711123865"
            ]
          },
          "execution_count": 13,
          "metadata": {},
          "output_type": "execute_result"
        }
      ],
      "source": [
        "################################### YOUR CODE HERE #############################\n",
        "\n",
        "# Importing subsection of the sklearn package\n",
        "\n",
        "# See here https://scikit-learn.org/stable/supervised_learning.html for all options\n",
        "\n",
        "from sklearn.linear_model import LinearRegression, LogisticRegression\n",
        "\n",
        "# Make lr the linear regression function for short names\n",
        "lr = LinearRegression() # model development \n",
        "\n",
        "# Fit the model with input x and output y\n",
        "lr.fit(X, y) #model learning \n",
        "\n",
        "# Get the predictions for y based on x\n",
        "pred = lr.predict(X)\n",
        "\n",
        "print('This is the intercept value of my linear regression -------')\n",
        "print(lr.intercept_)\n",
        "print('This is the coefficient value of my linear regression -------')\n",
        "print(lr.coef_)\n",
        "\n",
        "\n",
        "from sklearn.metrics import accuracy_score, r2_score \n",
        "\n",
        "r2_score(pred, y) # step4: model evaluation \n",
        "\n",
        "# What does your model evaluation mean? \n",
        "\n",
        "###############################################################################"
      ]
    },
    {
      "attachments": {},
      "cell_type": "markdown",
      "id": "32f35a8c",
      "metadata": {
        "id": "32f35a8c"
      },
      "source": [
        "<img src=\"https://scikit-learn.org/stable/_images/grid_search_cross_validation.png\" width=\"600\">"
      ]
    },
    {
      "attachments": {},
      "cell_type": "markdown",
      "id": "66d8328b",
      "metadata": {
        "id": "66d8328b"
      },
      "source": [
        "### Problem setting 2\n",
        "> Let's classify the lables using the chat \n",
        "\n",
        "$\\rightarrow$ classify the lables using the chat. \n",
        "\n",
        "> We will implement and use the support vector classifer and neural networks model (what we covered in the previous lecture :)) ), as our main prediction. We will take a look at how the model weights are learned using **the gradient descent algorithms**. \n",
        "\n",
        "### We will first define a few models we learned so far... "
      ]
    },
    {
      "cell_type": "code",
      "execution_count": 13,
      "id": "85ec37ae",
      "metadata": {
        "id": "85ec37ae"
      },
      "outputs": [],
      "source": [
        "from sklearn.svm import LinearSVC # for Support Vector Machine\n",
        "model_SVM = LinearSVC()\n",
        "\n",
        "from sklearn.neural_network import MLPClassifier #neural network \n",
        "nn = MLPClassifier()\n",
        "# let's take a look: https://scikit-learn.org/stable/modules/generated/sklearn.neural_network.MLPClassifier.html\n",
        "\n",
        "from sklearn.ensemble import RandomForestClassifier #Random forest \n",
        "clf = RandomForestClassifier()\n",
        "\n",
        "from sklearn.ensemble import GradientBoostingClassifier #GBM \n",
        "clf = GradientBoostingClassifier()"
      ]
    },
    {
      "attachments": {},
      "cell_type": "markdown",
      "id": "7fc2b408",
      "metadata": {
        "id": "7fc2b408"
      },
      "source": [
        "> *Let's explore!*"
      ]
    },
    {
      "cell_type": "code",
      "execution_count": null,
      "id": "dd8ace03",
      "metadata": {
        "id": "dd8ace03",
        "outputId": "c93cf8d9-77bb-4021-9662-9ddeee931db3"
      },
      "outputs": [
        {
          "name": "stdout",
          "output_type": "stream",
          "text": [
            "iteration--- 1\n",
            "0.7215474583895637\n",
            "iteration--- 2\n",
            "0.6842105263157895\n",
            "iteration--- 3\n",
            "0.7125506072874493\n",
            "iteration--- 4\n",
            "0.7151215121512151\n",
            "iteration--- 5\n",
            "0.666966696669667\n"
          ]
        }
      ],
      "source": [
        "from sklearn.svm import LinearSVC # for Support Vector Machine\n",
        "from sklearn.metrics import accuracy_score # metric\n",
        "from sklearn.model_selection import KFold  # evaluation scheme\n",
        "\n",
        "kf = KFold(n_splits=5)\n",
        "\n",
        "i=0\n",
        "for train_index, test_index  in kf.split(X):\n",
        "    \n",
        "    X_train, X_test = X[train_index], X[test_index] #this is to find and define train-test-folds\n",
        "    y_train, y_test = y[train_index], y[test_index]\n",
        "\n",
        "    model_SVM = LinearSVC() #this is to define or develop a model \n",
        "    model_SVM.fit(X_train, y_train) #step 3 : model learning but only using the training set \n",
        "    pred = model_SVM.predict(X_test)\n",
        "    print('iteration---', i+1)\n",
        "    print(accuracy_score(pred, y_test)) # evaluation scheme (proportion of correct classification)\n",
        "    i+=1 \n",
        "    \n"
      ]
    },
    {
      "cell_type": "code",
      "execution_count": null,
      "id": "55c646f8",
      "metadata": {
        "id": "55c646f8"
      },
      "outputs": [],
      "source": [
        "# Report the Average performance of SVM \n",
        "\n",
        "\n"
      ]
    },
    {
      "attachments": {},
      "cell_type": "markdown",
      "id": "mjUsoEbpmpFc",
      "metadata": {
        "id": "mjUsoEbpmpFc"
      },
      "source": [
        "## Comparing the Results of SVM, NNs, GBM, and RF"
      ]
    },
    {
      "cell_type": "code",
      "execution_count": null,
      "id": "3HrC6iGBmvEj",
      "metadata": {
        "id": "3HrC6iGBmvEj"
      },
      "outputs": [],
      "source": [
        "from sklearn.svm import LinearSVC # for Support Vector Machine\n",
        "from sklearn.metrics import accuracy_score # metric\n",
        "from sklearn.model_selection import KFold  # evaluation scheme\n",
        "\n",
        "kf = KFold(n_splits=5)\n",
        "\n",
        "i=0\n",
        "for train_index, test_index  in kf.split(X):\n",
        "    \n",
        "    X_train, X_test = X[train_index], X[test_index] #this is to find and define train-test-folds\n",
        "    y_train, y_test = y[train_index], y[test_index]\n",
        "\n",
        "    ######### your code here #########\n",
        "\n",
        "\n",
        "\n",
        "     #######################################\n",
        "    i+=1 \n",
        "    \n"
      ]
    }
  ],
  "metadata": {
    "colab": {
      "provenance": []
    },
    "kernelspec": {
      "display_name": "Python 3 (ipykernel)",
      "language": "python",
      "name": "python3"
    },
    "language_info": {
      "codemirror_mode": {
        "name": "ipython",
        "version": 3
      },
      "file_extension": ".py",
      "mimetype": "text/x-python",
      "name": "python",
      "nbconvert_exporter": "python",
      "pygments_lexer": "ipython3",
      "version": "3.11.3"
    }
  },
  "nbformat": 4,
  "nbformat_minor": 5
}
